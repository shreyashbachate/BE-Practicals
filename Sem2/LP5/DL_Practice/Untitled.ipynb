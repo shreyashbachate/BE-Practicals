{
 "cells": [
  {
   "cell_type": "code",
   "execution_count": 1,
   "id": "16271903",
   "metadata": {},
   "outputs": [
    {
     "name": "stderr",
     "output_type": "stream",
     "text": [
      "Cloning into 'sem8'...\n",
      "ssh: Could not resolve hostname https: Name or service not known\n",
      "fatal: Could not read from remote repository.\n",
      "\n",
      "Please make sure you have the correct access rights\n",
      "and the repository exists.\n"
     ]
    }
   ],
   "source": [
    "!git clone https:github.com/afnan47/sem8.git\n",
    "    "
   ]
  },
  {
   "cell_type": "code",
   "execution_count": 8,
   "id": "3723857f",
   "metadata": {},
   "outputs": [
    {
     "name": "stderr",
     "output_type": "stream",
     "text": [
      "Cloning into 'sem8'...\n",
      "Updating files:  68% (40/58)\n",
      "Updating files:  70% (41/58)\n",
      "Updating files:  72% (42/58)\n",
      "Updating files:  74% (43/58)\n",
      "Updating files:  75% (44/58)\n",
      "Updating files:  77% (45/58)\n",
      "Updating files:  79% (46/58)\n",
      "Updating files:  81% (47/58)\n",
      "Updating files:  82% (48/58)\n",
      "Updating files:  84% (49/58)\n",
      "Updating files:  86% (50/58)\n",
      "Updating files:  87% (51/58)\n",
      "Updating files:  89% (52/58)\n",
      "Updating files:  91% (53/58)\n",
      "Updating files:  93% (54/58)\n",
      "Updating files:  94% (55/58)\n",
      "Updating files:  96% (56/58)\n",
      "Updating files:  98% (57/58)\n",
      "Updating files: 100% (58/58)\n",
      "Updating files: 100% (58/58), done.\n"
     ]
    }
   ],
   "source": [
    "!git clone https://github.com/afnan47/sem8.git\n",
    "    "
   ]
  },
  {
   "cell_type": "code",
   "execution_count": null,
   "id": "fa502b09",
   "metadata": {},
   "outputs": [],
   "source": [
    "\n"
   ]
  },
  {
   "cell_type": "code",
   "execution_count": null,
   "id": "6837e28e",
   "metadata": {},
   "outputs": [],
   "source": []
  }
 ],
 "metadata": {
  "kernelspec": {
   "display_name": "Python 3 (ipykernel)",
   "language": "python",
   "name": "python3"
  },
  "language_info": {
   "codemirror_mode": {
    "name": "ipython",
    "version": 3
   },
   "file_extension": ".py",
   "mimetype": "text/x-python",
   "name": "python",
   "nbconvert_exporter": "python",
   "pygments_lexer": "ipython3",
   "version": "3.9.7"
  }
 },
 "nbformat": 4,
 "nbformat_minor": 5
}
