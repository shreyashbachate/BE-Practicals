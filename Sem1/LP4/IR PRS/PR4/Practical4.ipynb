{
 "cells": [
  {
   "cell_type": "code",
   "execution_count": 1,
   "id": "d61c3d5a",
   "metadata": {},
   "outputs": [
    {
     "name": "stdout",
     "output_type": "stream",
     "text": [
      "Enter text: Shreyash\n",
      "'s' : 2\n",
      "'h' : 2\n",
      "'r' : 1\n",
      "'e' : 1\n",
      "'y' : 1\n",
      "'a' : 1\n"
     ]
    }
   ],
   "source": [
    "from functools import reduce\n",
    "\n",
    "# Function to process the input text and count characters\n",
    "def count_characters(text):\n",
    "    # Remove non-alphabetic characters and convert to lowercase\n",
    "    cleaned_text = ''.join(filter(str.isalpha, text.lower()))\n",
    "    \n",
    "    # Count the occurrences of each character\n",
    "    char_count = {}\n",
    "    for char in cleaned_text:\n",
    "        char_count[char] = char_count.get(char, 0) + 1\n",
    "    \n",
    "    return char_count\n",
    "\n",
    "# Function to combine character counts from multiple sources\n",
    "def combine_counts(count1, count2):\n",
    "    combined_count = count1.copy()\n",
    "    for char, count in count2.items():\n",
    "        combined_count[char] = combined_count.get(char, 0) + count\n",
    "    return combined_count\n",
    "\n",
    "if __name__ == \"__main__\":\n",
    "    # Input text from the user\n",
    "    user_input = input(\"Enter text: \")\n",
    "\n",
    "    # Split the input text into multiple parts (for parallel processing if needed)\n",
    "    input_parts = [user_input]\n",
    "\n",
    "    # Map: Process each input part and count characters\n",
    "    char_counts = map(count_characters, input_parts)\n",
    "\n",
    "    # Reduce: Combine character counts from all parts\n",
    "    total_char_count = reduce(combine_counts, char_counts)\n",
    "\n",
    "    # Display the character counts\n",
    "    for char, count in total_char_count.items():\n",
    "        print(f\"'{char}' : {count}\")\n"
   ]
  },
  {
   "cell_type": "code",
   "execution_count": null,
   "id": "185e5575",
   "metadata": {},
   "outputs": [],
   "source": []
  }
 ],
 "metadata": {
  "kernelspec": {
   "display_name": "Python 3 (ipykernel)",
   "language": "python",
   "name": "python3"
  },
  "language_info": {
   "codemirror_mode": {
    "name": "ipython",
    "version": 3
   },
   "file_extension": ".py",
   "mimetype": "text/x-python",
   "name": "python",
   "nbconvert_exporter": "python",
   "pygments_lexer": "ipython3",
   "version": "3.9.7"
  }
 },
 "nbformat": 4,
 "nbformat_minor": 5
}
