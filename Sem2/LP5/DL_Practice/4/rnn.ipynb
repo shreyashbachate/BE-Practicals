{
 "cells": [
  {
   "cell_type": "code",
   "execution_count": 1,
   "id": "543b2e3e",
   "metadata": {},
   "outputs": [],
   "source": [
    "import pandas as pd\n",
    "import numpy as np\n",
    "\n",
    "from sklearn.preprocessing import MinMaxScaler\n",
    "from keras.models import Sequential\n",
    "from keras.layers import Dense, LSTM, Dropout\n",
    "from sklearn.metrics import mean_absolute_error, mean_squared_error\n",
    "import tensorflow as tf\n",
    "tf.config.run_functions_eagerly(True)"
   ]
  },
  {
   "cell_type": "code",
   "execution_count": 2,
   "id": "af0b51c9",
   "metadata": {},
   "outputs": [
    {
     "data": {
      "text/html": [
       "<div>\n",
       "<style scoped>\n",
       "    .dataframe tbody tr th:only-of-type {\n",
       "        vertical-align: middle;\n",
       "    }\n",
       "\n",
       "    .dataframe tbody tr th {\n",
       "        vertical-align: top;\n",
       "    }\n",
       "\n",
       "    .dataframe thead th {\n",
       "        text-align: right;\n",
       "    }\n",
       "</style>\n",
       "<table border=\"1\" class=\"dataframe\">\n",
       "  <thead>\n",
       "    <tr style=\"text-align: right;\">\n",
       "      <th></th>\n",
       "      <th>Date</th>\n",
       "      <th>Open</th>\n",
       "      <th>High</th>\n",
       "      <th>Low</th>\n",
       "      <th>Close</th>\n",
       "      <th>Volume</th>\n",
       "    </tr>\n",
       "  </thead>\n",
       "  <tbody>\n",
       "    <tr>\n",
       "      <th>0</th>\n",
       "      <td>12/19/2016</td>\n",
       "      <td>790.219971</td>\n",
       "      <td>797.659973</td>\n",
       "      <td>786.270020</td>\n",
       "      <td>794.200012</td>\n",
       "      <td>1225900</td>\n",
       "    </tr>\n",
       "    <tr>\n",
       "      <th>1</th>\n",
       "      <td>12/20/2016</td>\n",
       "      <td>796.760010</td>\n",
       "      <td>798.650024</td>\n",
       "      <td>793.270020</td>\n",
       "      <td>796.419983</td>\n",
       "      <td>925100</td>\n",
       "    </tr>\n",
       "    <tr>\n",
       "      <th>2</th>\n",
       "      <td>12/21/2016</td>\n",
       "      <td>795.840027</td>\n",
       "      <td>796.676025</td>\n",
       "      <td>787.099976</td>\n",
       "      <td>794.559998</td>\n",
       "      <td>1208700</td>\n",
       "    </tr>\n",
       "    <tr>\n",
       "      <th>3</th>\n",
       "      <td>12/22/2016</td>\n",
       "      <td>792.359985</td>\n",
       "      <td>793.320007</td>\n",
       "      <td>788.580017</td>\n",
       "      <td>791.260010</td>\n",
       "      <td>969100</td>\n",
       "    </tr>\n",
       "    <tr>\n",
       "      <th>4</th>\n",
       "      <td>12/23/2016</td>\n",
       "      <td>790.900024</td>\n",
       "      <td>792.739990</td>\n",
       "      <td>787.280029</td>\n",
       "      <td>789.909973</td>\n",
       "      <td>623400</td>\n",
       "    </tr>\n",
       "  </tbody>\n",
       "</table>\n",
       "</div>"
      ],
      "text/plain": [
       "         Date        Open        High         Low       Close   Volume\n",
       "0  12/19/2016  790.219971  797.659973  786.270020  794.200012  1225900\n",
       "1  12/20/2016  796.760010  798.650024  793.270020  796.419983   925100\n",
       "2  12/21/2016  795.840027  796.676025  787.099976  794.559998  1208700\n",
       "3  12/22/2016  792.359985  793.320007  788.580017  791.260010   969100\n",
       "4  12/23/2016  790.900024  792.739990  787.280029  789.909973   623400"
      ]
     },
     "execution_count": 2,
     "metadata": {},
     "output_type": "execute_result"
    }
   ],
   "source": [
    "#Data Preprocessing\n",
    "df = pd.read_csv('goog.csv')\n",
    "df.head()"
   ]
  },
  {
   "cell_type": "code",
   "execution_count": 3,
   "id": "ae25d7aa",
   "metadata": {},
   "outputs": [
    {
     "data": {
      "text/html": [
       "<div>\n",
       "<style scoped>\n",
       "    .dataframe tbody tr th:only-of-type {\n",
       "        vertical-align: middle;\n",
       "    }\n",
       "\n",
       "    .dataframe tbody tr th {\n",
       "        vertical-align: top;\n",
       "    }\n",
       "\n",
       "    .dataframe thead th {\n",
       "        text-align: right;\n",
       "    }\n",
       "</style>\n",
       "<table border=\"1\" class=\"dataframe\">\n",
       "  <thead>\n",
       "    <tr style=\"text-align: right;\">\n",
       "      <th></th>\n",
       "      <th>Date</th>\n",
       "      <th>Open</th>\n",
       "      <th>High</th>\n",
       "      <th>Low</th>\n",
       "      <th>Close</th>\n",
       "      <th>Volume</th>\n",
       "    </tr>\n",
       "  </thead>\n",
       "  <tbody>\n",
       "    <tr>\n",
       "      <th>56</th>\n",
       "      <td>3/13/2017</td>\n",
       "      <td>844.000000</td>\n",
       "      <td>848.684998</td>\n",
       "      <td>843.250000</td>\n",
       "      <td>845.539978</td>\n",
       "      <td>1149500</td>\n",
       "    </tr>\n",
       "    <tr>\n",
       "      <th>57</th>\n",
       "      <td>3/14/2017</td>\n",
       "      <td>843.640015</td>\n",
       "      <td>847.239990</td>\n",
       "      <td>840.799988</td>\n",
       "      <td>845.619995</td>\n",
       "      <td>779900</td>\n",
       "    </tr>\n",
       "    <tr>\n",
       "      <th>58</th>\n",
       "      <td>3/15/2017</td>\n",
       "      <td>847.590027</td>\n",
       "      <td>848.630005</td>\n",
       "      <td>840.770020</td>\n",
       "      <td>847.200012</td>\n",
       "      <td>1379600</td>\n",
       "    </tr>\n",
       "    <tr>\n",
       "      <th>59</th>\n",
       "      <td>3/16/2017</td>\n",
       "      <td>849.030029</td>\n",
       "      <td>850.849976</td>\n",
       "      <td>846.130005</td>\n",
       "      <td>848.780029</td>\n",
       "      <td>970400</td>\n",
       "    </tr>\n",
       "    <tr>\n",
       "      <th>60</th>\n",
       "      <td>3/17/2017</td>\n",
       "      <td>851.609985</td>\n",
       "      <td>853.400024</td>\n",
       "      <td>847.109985</td>\n",
       "      <td>852.119995</td>\n",
       "      <td>1712300</td>\n",
       "    </tr>\n",
       "  </tbody>\n",
       "</table>\n",
       "</div>"
      ],
      "text/plain": [
       "         Date        Open        High         Low       Close   Volume\n",
       "56  3/13/2017  844.000000  848.684998  843.250000  845.539978  1149500\n",
       "57  3/14/2017  843.640015  847.239990  840.799988  845.619995   779900\n",
       "58  3/15/2017  847.590027  848.630005  840.770020  847.200012  1379600\n",
       "59  3/16/2017  849.030029  850.849976  846.130005  848.780029   970400\n",
       "60  3/17/2017  851.609985  853.400024  847.109985  852.119995  1712300"
      ]
     },
     "execution_count": 3,
     "metadata": {},
     "output_type": "execute_result"
    }
   ],
   "source": [
    "df.tail()"
   ]
  },
  {
   "cell_type": "code",
   "execution_count": 4,
   "id": "f3980f9f",
   "metadata": {},
   "outputs": [
    {
     "data": {
      "text/plain": [
       "Date       object\n",
       "Open      float64\n",
       "High      float64\n",
       "Low       float64\n",
       "Close     float64\n",
       "Volume      int64\n",
       "dtype: object"
      ]
     },
     "execution_count": 4,
     "metadata": {},
     "output_type": "execute_result"
    }
   ],
   "source": [
    "df.dtypes"
   ]
  },
  {
   "cell_type": "code",
   "execution_count": 5,
   "id": "73c973b4",
   "metadata": {},
   "outputs": [
    {
     "data": {
      "text/plain": [
       "Date      0\n",
       "Open      0\n",
       "High      0\n",
       "Low       0\n",
       "Close     0\n",
       "Volume    0\n",
       "dtype: int64"
      ]
     },
     "execution_count": 5,
     "metadata": {},
     "output_type": "execute_result"
    }
   ],
   "source": [
    "df.isna().sum()"
   ]
  },
  {
   "cell_type": "code",
   "execution_count": 6,
   "id": "8c30bb34",
   "metadata": {},
   "outputs": [],
   "source": [
    "scaler = MinMaxScaler(feature_range=(0,1))\n",
    "scaled_data = scaler.fit_transform(df['Close'].values.reshape(-1,1))"
   ]
  },
  {
   "cell_type": "code",
   "execution_count": 7,
   "id": "b1a943f2",
   "metadata": {},
   "outputs": [],
   "source": [
    "#Data Splitting\n",
    "train_data = scaled_data[:int(len(scaled_data)*0.8)]\n",
    "test_data = scaled_data[int(len(scaled_data) * 0.8):]\n"
   ]
  },
  {
   "cell_type": "code",
   "execution_count": 8,
   "id": "d94f9653",
   "metadata": {},
   "outputs": [],
   "source": [
    "#Data Sequencing\n",
    "def create_sequences(data,time_steps = 6):\n",
    "    X = []\n",
    "    y = []\n",
    "    \n",
    "    for i in range(len(data) - time_steps):\n",
    "        X.append(data[i:i+time_steps,0])\n",
    "        y.append(data[i+time_steps,0])\n",
    "    return np.array(X), np.array(y)"
   ]
  },
  {
   "cell_type": "code",
   "execution_count": 9,
   "id": "ecd2c84c",
   "metadata": {},
   "outputs": [],
   "source": [
    "X_train, y_train = create_sequences(train_data)\n",
    "X_test, y_test = create_sequences(test_data)"
   ]
  },
  {
   "cell_type": "code",
   "execution_count": 10,
   "id": "d9113e2d",
   "metadata": {},
   "outputs": [
    {
     "name": "stdout",
     "output_type": "stream",
     "text": [
      "Epoch 1/100\n"
     ]
    },
    {
     "name": "stderr",
     "output_type": "stream",
     "text": [
      "C:\\Users\\shrey\\AppData\\Local\\Programs\\Python\\Python39\\lib\\site-packages\\tensorflow\\python\\data\\ops\\structured_function.py:258: UserWarning: Even though the `tf.config.experimental_run_functions_eagerly` option is set, this option does not apply to tf.data functions. To force eager execution of tf.data functions, please use `tf.data.experimental.enable_debug_mode()`.\n",
      "  warnings.warn(\n"
     ]
    },
    {
     "name": "stdout",
     "output_type": "stream",
     "text": [
      "11/11 [==============================] - 2s 156ms/step - loss: 0.1734\n",
      "Epoch 2/100\n",
      "11/11 [==============================] - 3s 286ms/step - loss: 0.0388\n",
      "Epoch 3/100\n",
      "11/11 [==============================] - 3s 288ms/step - loss: 0.0410\n",
      "Epoch 4/100\n",
      "11/11 [==============================] - 3s 293ms/step - loss: 0.0358\n",
      "Epoch 5/100\n",
      "11/11 [==============================] - 3s 286ms/step - loss: 0.0357\n",
      "Epoch 6/100\n",
      "11/11 [==============================] - 3s 290ms/step - loss: 0.0337\n",
      "Epoch 7/100\n",
      "11/11 [==============================] - 3s 305ms/step - loss: 0.0317\n",
      "Epoch 8/100\n",
      "11/11 [==============================] - 3s 301ms/step - loss: 0.0324\n",
      "Epoch 9/100\n",
      "11/11 [==============================] - 3s 298ms/step - loss: 0.0302\n",
      "Epoch 10/100\n",
      "11/11 [==============================] - 3s 290ms/step - loss: 0.0326\n",
      "Epoch 11/100\n",
      "11/11 [==============================] - 3s 285ms/step - loss: 0.0306\n",
      "Epoch 12/100\n",
      "11/11 [==============================] - 3s 283ms/step - loss: 0.0327\n",
      "Epoch 13/100\n",
      "11/11 [==============================] - 3s 292ms/step - loss: 0.0320\n",
      "Epoch 14/100\n",
      "11/11 [==============================] - 3s 289ms/step - loss: 0.0310\n",
      "Epoch 15/100\n",
      "11/11 [==============================] - 3s 288ms/step - loss: 0.0347\n",
      "Epoch 16/100\n",
      "11/11 [==============================] - 3s 292ms/step - loss: 0.0349\n",
      "Epoch 17/100\n",
      "11/11 [==============================] - 3s 292ms/step - loss: 0.0310\n",
      "Epoch 18/100\n",
      "11/11 [==============================] - 3s 285ms/step - loss: 0.0356\n",
      "Epoch 19/100\n",
      "11/11 [==============================] - 3s 293ms/step - loss: 0.0329\n",
      "Epoch 20/100\n",
      "11/11 [==============================] - 3s 295ms/step - loss: 0.0308\n",
      "Epoch 21/100\n",
      "11/11 [==============================] - 3s 292ms/step - loss: 0.0318\n",
      "Epoch 22/100\n",
      "11/11 [==============================] - 3s 287ms/step - loss: 0.0261\n",
      "Epoch 23/100\n",
      "11/11 [==============================] - 3s 286ms/step - loss: 0.0336\n",
      "Epoch 24/100\n",
      "11/11 [==============================] - 3s 295ms/step - loss: 0.0357\n",
      "Epoch 25/100\n",
      "11/11 [==============================] - 3s 292ms/step - loss: 0.0283\n",
      "Epoch 26/100\n",
      "11/11 [==============================] - 3s 290ms/step - loss: 0.0294\n",
      "Epoch 27/100\n",
      "11/11 [==============================] - 3s 291ms/step - loss: 0.0347\n",
      "Epoch 28/100\n",
      "11/11 [==============================] - 3s 299ms/step - loss: 0.0286\n",
      "Epoch 29/100\n",
      "11/11 [==============================] - 3s 309ms/step - loss: 0.0258\n",
      "Epoch 30/100\n",
      "11/11 [==============================] - 3s 298ms/step - loss: 0.0309\n",
      "Epoch 31/100\n",
      "11/11 [==============================] - 3s 285ms/step - loss: 0.0313\n",
      "Epoch 32/100\n",
      "11/11 [==============================] - 3s 290ms/step - loss: 0.0305\n",
      "Epoch 33/100\n",
      "11/11 [==============================] - 3s 282ms/step - loss: 0.0291\n",
      "Epoch 34/100\n",
      "11/11 [==============================] - 3s 289ms/step - loss: 0.0255\n",
      "Epoch 35/100\n",
      "11/11 [==============================] - 3s 286ms/step - loss: 0.0265\n",
      "Epoch 36/100\n",
      "11/11 [==============================] - 3s 282ms/step - loss: 0.0286\n",
      "Epoch 37/100\n",
      "11/11 [==============================] - 3s 289ms/step - loss: 0.0311\n",
      "Epoch 38/100\n",
      "11/11 [==============================] - 3s 304ms/step - loss: 0.0299\n",
      "Epoch 39/100\n",
      "11/11 [==============================] - 3s 305ms/step - loss: 0.0383\n",
      "Epoch 40/100\n",
      "11/11 [==============================] - 3s 290ms/step - loss: 0.0258\n",
      "Epoch 41/100\n",
      "11/11 [==============================] - 3s 301ms/step - loss: 0.0245\n",
      "Epoch 42/100\n",
      "11/11 [==============================] - 3s 303ms/step - loss: 0.0245\n",
      "Epoch 43/100\n",
      "11/11 [==============================] - 3s 285ms/step - loss: 0.0289\n",
      "Epoch 44/100\n",
      "11/11 [==============================] - 3s 292ms/step - loss: 0.0244\n",
      "Epoch 45/100\n",
      "11/11 [==============================] - 3s 304ms/step - loss: 0.0354\n",
      "Epoch 46/100\n",
      "11/11 [==============================] - 3s 310ms/step - loss: 0.0270\n",
      "Epoch 47/100\n",
      "11/11 [==============================] - 3s 301ms/step - loss: 0.0297\n",
      "Epoch 48/100\n",
      "11/11 [==============================] - 3s 295ms/step - loss: 0.0302\n",
      "Epoch 49/100\n",
      "11/11 [==============================] - 1s 134ms/step - loss: 0.0288\n",
      "Epoch 50/100\n",
      "11/11 [==============================] - 1s 112ms/step - loss: 0.0238\n",
      "Epoch 51/100\n",
      "11/11 [==============================] - 1s 127ms/step - loss: 0.0331\n",
      "Epoch 52/100\n",
      "11/11 [==============================] - 1s 128ms/step - loss: 0.0308\n",
      "Epoch 53/100\n",
      "11/11 [==============================] - 1s 122ms/step - loss: 0.0407\n",
      "Epoch 54/100\n",
      "11/11 [==============================] - 1s 120ms/step - loss: 0.0307\n",
      "Epoch 55/100\n",
      "11/11 [==============================] - 1s 121ms/step - loss: 0.0273\n",
      "Epoch 56/100\n",
      "11/11 [==============================] - 1s 118ms/step - loss: 0.0325\n",
      "Epoch 57/100\n",
      "11/11 [==============================] - 1s 135ms/step - loss: 0.0280\n",
      "Epoch 58/100\n",
      "11/11 [==============================] - 1s 115ms/step - loss: 0.0241\n",
      "Epoch 59/100\n",
      "11/11 [==============================] - 1s 137ms/step - loss: 0.0306\n",
      "Epoch 60/100\n",
      "11/11 [==============================] - 1s 136ms/step - loss: 0.0382\n",
      "Epoch 61/100\n",
      "11/11 [==============================] - 2s 152ms/step - loss: 0.0309\n",
      "Epoch 62/100\n",
      "11/11 [==============================] - 1s 126ms/step - loss: 0.0351\n",
      "Epoch 63/100\n",
      "11/11 [==============================] - 1s 107ms/step - loss: 0.0280\n",
      "Epoch 64/100\n",
      "11/11 [==============================] - 1s 131ms/step - loss: 0.0289\n",
      "Epoch 65/100\n",
      "11/11 [==============================] - 1s 106ms/step - loss: 0.0256\n",
      "Epoch 66/100\n",
      "11/11 [==============================] - 1s 112ms/step - loss: 0.0261\n",
      "Epoch 67/100\n",
      "11/11 [==============================] - 1s 116ms/step - loss: 0.0247\n",
      "Epoch 68/100\n",
      "11/11 [==============================] - 1s 110ms/step - loss: 0.0288\n",
      "Epoch 69/100\n",
      "11/11 [==============================] - 1s 117ms/step - loss: 0.0282\n",
      "Epoch 70/100\n",
      "11/11 [==============================] - 1s 95ms/step - loss: 0.0346\n",
      "Epoch 71/100\n",
      "11/11 [==============================] - 1s 104ms/step - loss: 0.0303\n",
      "Epoch 72/100\n",
      "11/11 [==============================] - 1s 103ms/step - loss: 0.0224\n",
      "Epoch 73/100\n",
      "11/11 [==============================] - 1s 105ms/step - loss: 0.0246\n",
      "Epoch 74/100\n",
      "11/11 [==============================] - 1s 134ms/step - loss: 0.0195\n",
      "Epoch 75/100\n",
      "11/11 [==============================] - 1s 119ms/step - loss: 0.0232\n",
      "Epoch 76/100\n",
      "11/11 [==============================] - 1s 114ms/step - loss: 0.0222\n",
      "Epoch 77/100\n",
      "11/11 [==============================] - 1s 116ms/step - loss: 0.0227\n",
      "Epoch 78/100\n",
      "11/11 [==============================] - 1s 100ms/step - loss: 0.0178\n",
      "Epoch 79/100\n",
      "11/11 [==============================] - 1s 109ms/step - loss: 0.0184\n",
      "Epoch 80/100\n",
      "11/11 [==============================] - 1s 103ms/step - loss: 0.0177\n",
      "Epoch 81/100\n",
      "11/11 [==============================] - 1s 110ms/step - loss: 0.0145\n",
      "Epoch 82/100\n",
      "11/11 [==============================] - 1s 102ms/step - loss: 0.0163\n",
      "Epoch 83/100\n",
      "11/11 [==============================] - 1s 116ms/step - loss: 0.0259\n",
      "Epoch 84/100\n",
      "11/11 [==============================] - 1s 123ms/step - loss: 0.0204\n",
      "Epoch 85/100\n",
      "11/11 [==============================] - 1s 101ms/step - loss: 0.0215\n",
      "Epoch 86/100\n",
      "11/11 [==============================] - 1s 112ms/step - loss: 0.0163\n",
      "Epoch 87/100\n",
      "11/11 [==============================] - 1s 106ms/step - loss: 0.0198\n",
      "Epoch 88/100\n",
      "11/11 [==============================] - 1s 109ms/step - loss: 0.0139\n",
      "Epoch 89/100\n",
      "11/11 [==============================] - 1s 97ms/step - loss: 0.0139\n",
      "Epoch 90/100\n",
      "11/11 [==============================] - 1s 115ms/step - loss: 0.0259\n",
      "Epoch 91/100\n",
      "11/11 [==============================] - 1s 112ms/step - loss: 0.0174\n",
      "Epoch 92/100\n",
      "11/11 [==============================] - 1s 105ms/step - loss: 0.0180\n",
      "Epoch 93/100\n",
      "11/11 [==============================] - 1s 100ms/step - loss: 0.0154\n",
      "Epoch 94/100\n",
      "11/11 [==============================] - 1s 100ms/step - loss: 0.0176\n",
      "Epoch 95/100\n",
      "11/11 [==============================] - 1s 112ms/step - loss: 0.0181\n",
      "Epoch 96/100\n",
      "11/11 [==============================] - 1s 108ms/step - loss: 0.0177\n",
      "Epoch 97/100\n",
      "11/11 [==============================] - 1s 124ms/step - loss: 0.0152\n",
      "Epoch 98/100\n",
      "11/11 [==============================] - 1s 118ms/step - loss: 0.0152\n",
      "Epoch 99/100\n",
      "11/11 [==============================] - 1s 115ms/step - loss: 0.0132\n"
     ]
    },
    {
     "name": "stdout",
     "output_type": "stream",
     "text": [
      "Epoch 100/100\n",
      "11/11 [==============================] - 1s 118ms/step - loss: 0.0152\n"
     ]
    },
    {
     "data": {
      "text/plain": [
       "<keras.src.callbacks.History at 0x1bbb1c4dc40>"
      ]
     },
     "execution_count": 10,
     "metadata": {},
     "output_type": "execute_result"
    }
   ],
   "source": [
    "#Model Training\n",
    "model = Sequential()\n",
    "\n",
    "model.add(LSTM(units = 50, return_sequences=True, input_shape=(X_train.shape[1],1)))\n",
    "model.add(Dropout(rate = 0.2))\n",
    "\n",
    "model.add(LSTM(units = 50, return_sequences=True))\n",
    "model.add(Dropout(rate = 0.2))\n",
    "\n",
    "model.add(LSTM(units = 50, return_sequences=True))\n",
    "model.add(Dropout(rate = 0.2))\n",
    "\n",
    "model.add(LSTM(units = 50, return_sequences=False))\n",
    "model.add(Dropout(rate = 0.2))\n",
    "\n",
    "model.add(Dense(units = 1))\n",
    "\n",
    "model.compile(optimizer='adam', loss = 'mean_squared_error')\n",
    "\n",
    "model.fit(X_train, y_train, epochs = 100, batch_size=4)\n",
    "\n"
   ]
  },
  {
   "cell_type": "code",
   "execution_count": 11,
   "id": "91e73db2",
   "metadata": {},
   "outputs": [],
   "source": [
    "# model.compile(optimizer = 'adam', loss = 'mean_squared_error')"
   ]
  },
  {
   "cell_type": "code",
   "execution_count": 12,
   "id": "f3fa44a9",
   "metadata": {},
   "outputs": [],
   "source": [
    "# model.fit(x = X_train, y = y_train, batch_size = 32, epochs = 100)"
   ]
  },
  {
   "cell_type": "code",
   "execution_count": 13,
   "id": "6e9f4a53",
   "metadata": {},
   "outputs": [
    {
     "name": "stdout",
     "output_type": "stream",
     "text": [
      "1/1 [==============================] - 0s 51ms/step\n"
     ]
    }
   ],
   "source": [
    "#model evaluation\n",
    "\n",
    "y_pred = model.predict(X_test)\n",
    "y_pred = scaler.inverse_transform(y_pred)\n",
    "\n",
    "y_test = scaler.inverse_transform(y_test.reshape(-1,1))"
   ]
  },
  {
   "cell_type": "code",
   "execution_count": 14,
   "id": "62b38104",
   "metadata": {},
   "outputs": [
    {
     "name": "stdout",
     "output_type": "stream",
     "text": [
      "MAE  14.774274490513383\n",
      "MSE  222.41194286473598\n",
      "RMSE  14.913481916197034\n"
     ]
    }
   ],
   "source": [
    "mae = mean_absolute_error(y_test,y_pred)\n",
    "mse = mean_squared_error(y_test,y_pred)\n",
    "rmse = np.sqrt(mse)\n",
    "\n",
    "print('MAE ',mae)\n",
    "print('MSE ',mse)\n",
    "print('RMSE ',rmse)"
   ]
  },
  {
   "cell_type": "code",
   "execution_count": 15,
   "id": "2f7935a5",
   "metadata": {},
   "outputs": [],
   "source": [
    "#prediction\n",
    "last_6_days = df['Close'][-6:].values\n",
    "last_6_days_scaled = scaler.transform(last_6_days.reshape(-1,1))\n",
    "\n",
    "X_pred = []\n",
    "X_pred.append(last_6_days_scaled)\n",
    "X_pred = np.array(X_pred)\n",
    "X_pred = np.reshape(X_pred,(X_pred.shape[0],X_pred.shape[1],1))"
   ]
  },
  {
   "cell_type": "code",
   "execution_count": 16,
   "id": "0fb74e4b",
   "metadata": {},
   "outputs": [
    {
     "name": "stdout",
     "output_type": "stream",
     "text": [
      "1/1 [==============================] - 0s 86ms/step\n",
      "Predicted price for next day  [[834.97955]]\n"
     ]
    },
    {
     "name": "stderr",
     "output_type": "stream",
     "text": [
      "C:\\Users\\shrey\\AppData\\Local\\Programs\\Python\\Python39\\lib\\site-packages\\tensorflow\\python\\data\\ops\\structured_function.py:258: UserWarning: Even though the `tf.config.experimental_run_functions_eagerly` option is set, this option does not apply to tf.data functions. To force eager execution of tf.data functions, please use `tf.data.experimental.enable_debug_mode()`.\n",
      "  warnings.warn(\n"
     ]
    }
   ],
   "source": [
    "pred_price = model.predict(X_pred)\n",
    "pred_price = scaler.inverse_transform(pred_price)\n",
    "\n",
    "print('Predicted price for next day ',pred_price)"
   ]
  },
  {
   "cell_type": "code",
   "execution_count": 17,
   "id": "0269da60",
   "metadata": {},
   "outputs": [
    {
     "data": {
      "image/png": "[encoded data removed]",
      "text/plain": [
       "<Figure size 640x480 with 1 Axes>"
      ]
     },
     "metadata": {},
     "output_type": "display_data"
    }
   ],
   "source": [
    "import matplotlib.pyplot as plt\n",
    "\n",
    "plt.plot(y_test,label='Actual Price')\n",
    "plt.plot(y_pred, label = 'Predicted Price')\n",
    "\n",
    "plt.title('Actual Vs Predicted Price')\n",
    "plt.xlabel('Time')\n",
    "plt.ylabel('Price')\n",
    "plt.legend()\n",
    "plt.grid(True)\n",
    "plt.show()"
   ]
  },
  {
   "cell_type": "code",
   "execution_count": null,
   "id": "64757230",
   "metadata": {},
   "outputs": [],
   "source": []
  }
 ],
 "metadata": {
  "kernelspec": {
   "display_name": "Python 3 (ipykernel)",
   "language": "python",
   "name": "python3"
  },
  "language_info": {
   "codemirror_mode": {
    "name": "ipython",
    "version": 3
   },
   "file_extension": ".py",
   "mimetype": "text/x-python",
   "name": "python",
   "nbconvert_exporter": "python",
   "pygments_lexer": "ipython3",
   "version": "3.9.7"
  }
 },
 "nbformat": 4,
 "nbformat_minor": 5
}
