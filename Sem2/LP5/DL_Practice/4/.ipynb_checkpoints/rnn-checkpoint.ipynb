{
 "cells": [
  {
   "cell_type": "code",
   "execution_count": 1,
   "id": "e173727d",
   "metadata": {},
   "outputs": [],
   "source": [
    "import pandas as pd\n",
    "import numpy as np\n",
    "\n",
    "from sklearn.preprocessing import MinMaxScaler\n",
    "from keras.models import Sequential\n",
    "from keras.layers import Dense, LSTM, Dropout\n",
    "from sklearn.metrics import mean_absolute_error, mean_squared_error\n",
    "import tensorflow as tf\n",
    "tf.config.run_functions_eagerly(True)"
   ]
  },
  {
   "cell_type": "code",
   "execution_count": 2,
   "id": "733d64fa",
   "metadata": {},
   "outputs": [
    {
     "data": {
      "text/html": [
       "<div>\n",
       "<style scoped>\n",
       "    .dataframe tbody tr th:only-of-type {\n",
       "        vertical-align: middle;\n",
       "    }\n",
       "\n",
       "    .dataframe tbody tr th {\n",
       "        vertical-align: top;\n",
       "    }\n",
       "\n",
       "    .dataframe thead th {\n",
       "        text-align: right;\n",
       "    }\n",
       "</style>\n",
       "<table border=\"1\" class=\"dataframe\">\n",
       "  <thead>\n",
       "    <tr style=\"text-align: right;\">\n",
       "      <th></th>\n",
       "      <th>Date</th>\n",
       "      <th>Open</th>\n",
       "      <th>High</th>\n",
       "      <th>Low</th>\n",
       "      <th>Close</th>\n",
       "      <th>Volume</th>\n",
       "    </tr>\n",
       "  </thead>\n",
       "  <tbody>\n",
       "    <tr>\n",
       "      <th>0</th>\n",
       "      <td>12/19/2016</td>\n",
       "      <td>790.219971</td>\n",
       "      <td>797.659973</td>\n",
       "      <td>786.270020</td>\n",
       "      <td>794.200012</td>\n",
       "      <td>1225900</td>\n",
       "    </tr>\n",
       "    <tr>\n",
       "      <th>1</th>\n",
       "      <td>12/20/2016</td>\n",
       "      <td>796.760010</td>\n",
       "      <td>798.650024</td>\n",
       "      <td>793.270020</td>\n",
       "      <td>796.419983</td>\n",
       "      <td>925100</td>\n",
       "    </tr>\n",
       "    <tr>\n",
       "      <th>2</th>\n",
       "      <td>12/21/2016</td>\n",
       "      <td>795.840027</td>\n",
       "      <td>796.676025</td>\n",
       "      <td>787.099976</td>\n",
       "      <td>794.559998</td>\n",
       "      <td>1208700</td>\n",
       "    </tr>\n",
       "    <tr>\n",
       "      <th>3</th>\n",
       "      <td>12/22/2016</td>\n",
       "      <td>792.359985</td>\n",
       "      <td>793.320007</td>\n",
       "      <td>788.580017</td>\n",
       "      <td>791.260010</td>\n",
       "      <td>969100</td>\n",
       "    </tr>\n",
       "    <tr>\n",
       "      <th>4</th>\n",
       "      <td>12/23/2016</td>\n",
       "      <td>790.900024</td>\n",
       "      <td>792.739990</td>\n",
       "      <td>787.280029</td>\n",
       "      <td>789.909973</td>\n",
       "      <td>623400</td>\n",
       "    </tr>\n",
       "  </tbody>\n",
       "</table>\n",
       "</div>"
      ],
      "text/plain": [
       "         Date        Open        High         Low       Close   Volume\n",
       "0  12/19/2016  790.219971  797.659973  786.270020  794.200012  1225900\n",
       "1  12/20/2016  796.760010  798.650024  793.270020  796.419983   925100\n",
       "2  12/21/2016  795.840027  796.676025  787.099976  794.559998  1208700\n",
       "3  12/22/2016  792.359985  793.320007  788.580017  791.260010   969100\n",
       "4  12/23/2016  790.900024  792.739990  787.280029  789.909973   623400"
      ]
     },
     "execution_count": 2,
     "metadata": {},
     "output_type": "execute_result"
    }
   ],
   "source": [
    "#Data Preprocessing\n",
    "df = pd.read_csv('goog.csv')\n",
    "df.head()"
   ]
  },
  {
   "cell_type": "code",
   "execution_count": 3,
   "id": "57e55ed7",
   "metadata": {},
   "outputs": [
    {
     "data": {
      "text/html": [
       "<div>\n",
       "<style scoped>\n",
       "    .dataframe tbody tr th:only-of-type {\n",
       "        vertical-align: middle;\n",
       "    }\n",
       "\n",
       "    .dataframe tbody tr th {\n",
       "        vertical-align: top;\n",
       "    }\n",
       "\n",
       "    .dataframe thead th {\n",
       "        text-align: right;\n",
       "    }\n",
       "</style>\n",
       "<table border=\"1\" class=\"dataframe\">\n",
       "  <thead>\n",
       "    <tr style=\"text-align: right;\">\n",
       "      <th></th>\n",
       "      <th>Date</th>\n",
       "      <th>Open</th>\n",
       "      <th>High</th>\n",
       "      <th>Low</th>\n",
       "      <th>Close</th>\n",
       "      <th>Volume</th>\n",
       "    </tr>\n",
       "  </thead>\n",
       "  <tbody>\n",
       "    <tr>\n",
       "      <th>56</th>\n",
       "      <td>3/13/2017</td>\n",
       "      <td>844.000000</td>\n",
       "      <td>848.684998</td>\n",
       "      <td>843.250000</td>\n",
       "      <td>845.539978</td>\n",
       "      <td>1149500</td>\n",
       "    </tr>\n",
       "    <tr>\n",
       "      <th>57</th>\n",
       "      <td>3/14/2017</td>\n",
       "      <td>843.640015</td>\n",
       "      <td>847.239990</td>\n",
       "      <td>840.799988</td>\n",
       "      <td>845.619995</td>\n",
       "      <td>779900</td>\n",
       "    </tr>\n",
       "    <tr>\n",
       "      <th>58</th>\n",
       "      <td>3/15/2017</td>\n",
       "      <td>847.590027</td>\n",
       "      <td>848.630005</td>\n",
       "      <td>840.770020</td>\n",
       "      <td>847.200012</td>\n",
       "      <td>1379600</td>\n",
       "    </tr>\n",
       "    <tr>\n",
       "      <th>59</th>\n",
       "      <td>3/16/2017</td>\n",
       "      <td>849.030029</td>\n",
       "      <td>850.849976</td>\n",
       "      <td>846.130005</td>\n",
       "      <td>848.780029</td>\n",
       "      <td>970400</td>\n",
       "    </tr>\n",
       "    <tr>\n",
       "      <th>60</th>\n",
       "      <td>3/17/2017</td>\n",
       "      <td>851.609985</td>\n",
       "      <td>853.400024</td>\n",
       "      <td>847.109985</td>\n",
       "      <td>852.119995</td>\n",
       "      <td>1712300</td>\n",
       "    </tr>\n",
       "  </tbody>\n",
       "</table>\n",
       "</div>"
      ],
      "text/plain": [
       "         Date        Open        High         Low       Close   Volume\n",
       "56  3/13/2017  844.000000  848.684998  843.250000  845.539978  1149500\n",
       "57  3/14/2017  843.640015  847.239990  840.799988  845.619995   779900\n",
       "58  3/15/2017  847.590027  848.630005  840.770020  847.200012  1379600\n",
       "59  3/16/2017  849.030029  850.849976  846.130005  848.780029   970400\n",
       "60  3/17/2017  851.609985  853.400024  847.109985  852.119995  1712300"
      ]
     },
     "execution_count": 3,
     "metadata": {},
     "output_type": "execute_result"
    }
   ],
   "source": [
    "df.tail()"
   ]
  },
  {
   "cell_type": "code",
   "execution_count": 4,
   "id": "e725174c",
   "metadata": {},
   "outputs": [
    {
     "data": {
      "text/plain": [
       "Date       object\n",
       "Open      float64\n",
       "High      float64\n",
       "Low       float64\n",
       "Close     float64\n",
       "Volume      int64\n",
       "dtype: object"
      ]
     },
     "execution_count": 4,
     "metadata": {},
     "output_type": "execute_result"
    }
   ],
   "source": [
    "df.dtypes"
   ]
  },
  {
   "cell_type": "code",
   "execution_count": 5,
   "id": "6d2e7daa",
   "metadata": {},
   "outputs": [
    {
     "data": {
      "text/plain": [
       "Date      0\n",
       "Open      0\n",
       "High      0\n",
       "Low       0\n",
       "Close     0\n",
       "Volume    0\n",
       "dtype: int64"
      ]
     },
     "execution_count": 5,
     "metadata": {},
     "output_type": "execute_result"
    }
   ],
   "source": [
    "df.isna().sum()"
   ]
  },
  {
   "cell_type": "code",
   "execution_count": 6,
   "id": "a5f93498",
   "metadata": {},
   "outputs": [],
   "source": [
    "scaler = MinMaxScaler(feature_range=(0,1))\n",
    "scaled_data = scaler.fit_transform(df['Close'].values.reshape(-1,1))"
   ]
  },
  {
   "cell_type": "code",
   "execution_count": 7,
   "id": "bbe9ae5c",
   "metadata": {},
   "outputs": [],
   "source": [
    "#Data Splitting\n",
    "train_data = scaled_data[:int(len(scaled_data)*0.8)]\n",
    "test_data = scaled_data[int(len(scaled_data) * 0.8):]\n"
   ]
  },
  {
   "cell_type": "code",
   "execution_count": 8,
   "id": "ce2a1dab",
   "metadata": {},
   "outputs": [],
   "source": [
    "#Data Sequencing\n",
    "def create_sequences(data,time_steps = 6):\n",
    "    X = []\n",
    "    y = []\n",
    "    \n",
    "    for i in range(len(data) - time_steps):\n",
    "        X.append(data[i:i+time_steps+0])\n",
    "        y.append(data[i+time_steps+0])\n",
    "    return np.array(X), np.array(y)"
   ]
  },
  {
   "cell_type": "code",
   "execution_count": 9,
   "id": "596c966e",
   "metadata": {},
   "outputs": [],
   "source": [
    "X_train, y_train = create_sequences(train_data)\n",
    "X_test, y_test = create_sequences(test_data)"
   ]
  },
  {
   "cell_type": "code",
   "execution_count": 17,
   "id": "4987737a",
   "metadata": {},
   "outputs": [],
   "source": [
    "#Model Training\n",
    "model = Sequential()\n",
    "\n",
    "model.add(LSTM(units = 50, return_sequences=True, input_shape=(X_train.shape[1],1)))\n",
    "model.add(Dropout(rate = 0.2))\n",
    "\n",
    "model.add(LSTM(units = 50, return_sequences=True))\n",
    "model.add(Dropout(rate = 0.2))\n",
    "\n",
    "model.add(LSTM(units = 50, return_sequences=True))\n",
    "model.add(Dropout(rate = 0.2))\n",
    "\n",
    "model.add(LSTM(units = 50, return_sequences=False))\n",
    "model.add(Dropout(rate = 0.2))\n",
    "\n",
    "model.add(Dense(units = 1))\n",
    "\n",
    "model.compile(optimizer='adam', loss = 'mean_squared_error')\n",
    "\n",
    "model.fit(X_train, y_train, epochs = 100, batch_size=4)\n",
    "\n"
   ]
  },
  {
   "cell_type": "code",
   "execution_count": 18,
   "id": "1931edda",
   "metadata": {},
   "outputs": [],
   "source": [
    "# model.compile(optimizer = 'adam', loss = 'mean_squared_error')"
   ]
  },
  {
   "cell_type": "code",
   "execution_count": 19,
   "id": "a875e1bd",
   "metadata": {},
   "outputs": [
    {
     "name": "stdout",
     "output_type": "stream",
     "text": [
      "Epoch 1/100\n"
     ]
    },
    {
     "name": "stderr",
     "output_type": "stream",
     "text": [
      "C:\\Users\\shrey\\AppData\\Local\\Programs\\Python\\Python39\\lib\\site-packages\\tensorflow\\python\\data\\ops\\structured_function.py:258: UserWarning: Even though the `tf.config.experimental_run_functions_eagerly` option is set, this option does not apply to tf.data functions. To force eager execution of tf.data functions, please use `tf.data.experimental.enable_debug_mode()`.\n",
      "  warnings.warn(\n"
     ]
    },
    {
     "name": "stdout",
     "output_type": "stream",
     "text": [
      "2/2 [==============================] - 0s 134ms/step - loss: 0.2584\n",
      "Epoch 2/100\n",
      "2/2 [==============================] - 0s 121ms/step - loss: 0.2286\n",
      "Epoch 3/100\n",
      "2/2 [==============================] - 0s 138ms/step - loss: 0.1955\n",
      "Epoch 4/100\n",
      "2/2 [==============================] - 0s 99ms/step - loss: 0.1526\n",
      "Epoch 5/100\n",
      "2/2 [==============================] - 0s 139ms/step - loss: 0.1136\n",
      "Epoch 6/100\n",
      "2/2 [==============================] - 0s 121ms/step - loss: 0.0662\n",
      "Epoch 7/100\n",
      "2/2 [==============================] - 0s 114ms/step - loss: 0.0362\n",
      "Epoch 8/100\n",
      "2/2 [==============================] - 0s 103ms/step - loss: 0.0417\n",
      "Epoch 9/100\n",
      "2/2 [==============================] - 0s 96ms/step - loss: 0.0634\n",
      "Epoch 10/100\n",
      "2/2 [==============================] - 0s 134ms/step - loss: 0.0504\n",
      "Epoch 11/100\n",
      "2/2 [==============================] - 0s 98ms/step - loss: 0.0399\n",
      "Epoch 12/100\n",
      "2/2 [==============================] - 0s 120ms/step - loss: 0.0291\n",
      "Epoch 13/100\n",
      "2/2 [==============================] - 0s 147ms/step - loss: 0.0342\n",
      "Epoch 14/100\n",
      "2/2 [==============================] - 0s 106ms/step - loss: 0.0398\n",
      "Epoch 15/100\n",
      "2/2 [==============================] - 0s 146ms/step - loss: 0.0391\n",
      "Epoch 16/100\n",
      "2/2 [==============================] - 0s 133ms/step - loss: 0.0414\n",
      "Epoch 17/100\n",
      "2/2 [==============================] - 0s 120ms/step - loss: 0.0347\n",
      "Epoch 18/100\n",
      "2/2 [==============================] - 0s 106ms/step - loss: 0.0326\n",
      "Epoch 19/100\n",
      "2/2 [==============================] - 0s 132ms/step - loss: 0.0341\n",
      "Epoch 20/100\n",
      "2/2 [==============================] - 0s 100ms/step - loss: 0.0304\n",
      "Epoch 21/100\n",
      "2/2 [==============================] - 0s 108ms/step - loss: 0.0285\n",
      "Epoch 22/100\n",
      "2/2 [==============================] - 0s 126ms/step - loss: 0.0355\n",
      "Epoch 23/100\n",
      "2/2 [==============================] - 0s 139ms/step - loss: 0.0303\n",
      "Epoch 24/100\n",
      "2/2 [==============================] - 0s 99ms/step - loss: 0.0335\n",
      "Epoch 25/100\n",
      "2/2 [==============================] - 0s 132ms/step - loss: 0.0331\n",
      "Epoch 26/100\n",
      "2/2 [==============================] - 0s 109ms/step - loss: 0.0316\n",
      "Epoch 27/100\n",
      "2/2 [==============================] - 0s 106ms/step - loss: 0.0320\n",
      "Epoch 28/100\n",
      "2/2 [==============================] - 0s 155ms/step - loss: 0.0277\n",
      "Epoch 29/100\n",
      "2/2 [==============================] - 0s 147ms/step - loss: 0.0342\n",
      "Epoch 30/100\n",
      "2/2 [==============================] - 0s 118ms/step - loss: 0.0357\n",
      "Epoch 31/100\n",
      "2/2 [==============================] - 0s 120ms/step - loss: 0.0341\n",
      "Epoch 32/100\n",
      "2/2 [==============================] - 0s 116ms/step - loss: 0.0338\n",
      "Epoch 33/100\n",
      "2/2 [==============================] - 0s 115ms/step - loss: 0.0305\n",
      "Epoch 34/100\n",
      "2/2 [==============================] - 0s 102ms/step - loss: 0.0339\n",
      "Epoch 35/100\n",
      "2/2 [==============================] - 0s 97ms/step - loss: 0.0334\n",
      "Epoch 36/100\n",
      "2/2 [==============================] - 0s 102ms/step - loss: 0.0336\n",
      "Epoch 37/100\n",
      "2/2 [==============================] - 0s 137ms/step - loss: 0.0305\n",
      "Epoch 38/100\n",
      "2/2 [==============================] - 0s 136ms/step - loss: 0.0336\n",
      "Epoch 39/100\n",
      "2/2 [==============================] - 0s 119ms/step - loss: 0.0333\n",
      "Epoch 40/100\n",
      "2/2 [==============================] - 0s 106ms/step - loss: 0.0289\n",
      "Epoch 41/100\n",
      "2/2 [==============================] - 0s 106ms/step - loss: 0.0254\n",
      "Epoch 42/100\n",
      "2/2 [==============================] - 0s 103ms/step - loss: 0.0301\n",
      "Epoch 43/100\n",
      "2/2 [==============================] - 0s 90ms/step - loss: 0.0339\n",
      "Epoch 44/100\n",
      "2/2 [==============================] - 0s 92ms/step - loss: 0.0308\n",
      "Epoch 45/100\n",
      "2/2 [==============================] - 0s 137ms/step - loss: 0.0339\n",
      "Epoch 46/100\n",
      "2/2 [==============================] - 0s 125ms/step - loss: 0.0322\n",
      "Epoch 47/100\n",
      "2/2 [==============================] - 0s 113ms/step - loss: 0.0309\n",
      "Epoch 48/100\n",
      "2/2 [==============================] - 0s 106ms/step - loss: 0.0309\n",
      "Epoch 49/100\n",
      "2/2 [==============================] - 0s 91ms/step - loss: 0.0336\n",
      "Epoch 50/100\n",
      "2/2 [==============================] - 0s 97ms/step - loss: 0.0352\n",
      "Epoch 51/100\n",
      "2/2 [==============================] - 0s 105ms/step - loss: 0.0309\n",
      "Epoch 52/100\n",
      "2/2 [==============================] - 0s 105ms/step - loss: 0.0328\n",
      "Epoch 53/100\n",
      "2/2 [==============================] - 0s 101ms/step - loss: 0.0319\n",
      "Epoch 54/100\n",
      "2/2 [==============================] - 0s 91ms/step - loss: 0.0291\n",
      "Epoch 55/100\n",
      "2/2 [==============================] - 0s 105ms/step - loss: 0.0311\n",
      "Epoch 56/100\n",
      "2/2 [==============================] - 0s 105ms/step - loss: 0.0276\n",
      "Epoch 57/100\n",
      "2/2 [==============================] - 0s 114ms/step - loss: 0.0268\n",
      "Epoch 58/100\n",
      "2/2 [==============================] - 0s 116ms/step - loss: 0.0317\n",
      "Epoch 59/100\n",
      "2/2 [==============================] - 0s 98ms/step - loss: 0.0313\n",
      "Epoch 60/100\n",
      "2/2 [==============================] - 0s 114ms/step - loss: 0.0281\n",
      "Epoch 61/100\n",
      "2/2 [==============================] - 0s 99ms/step - loss: 0.0317\n",
      "Epoch 62/100\n",
      "2/2 [==============================] - 0s 105ms/step - loss: 0.0281\n",
      "Epoch 63/100\n",
      "2/2 [==============================] - 0s 101ms/step - loss: 0.0297\n",
      "Epoch 64/100\n",
      "2/2 [==============================] - 0s 107ms/step - loss: 0.0316\n",
      "Epoch 65/100\n",
      "2/2 [==============================] - 0s 101ms/step - loss: 0.0308\n",
      "Epoch 66/100\n",
      "2/2 [==============================] - 0s 94ms/step - loss: 0.0259\n",
      "Epoch 67/100\n",
      "2/2 [==============================] - 0s 135ms/step - loss: 0.0314\n",
      "Epoch 68/100\n",
      "2/2 [==============================] - 0s 118ms/step - loss: 0.0274\n",
      "Epoch 69/100\n",
      "2/2 [==============================] - 0s 146ms/step - loss: 0.0286\n",
      "Epoch 70/100\n",
      "2/2 [==============================] - 0s 118ms/step - loss: 0.0302\n",
      "Epoch 71/100\n",
      "2/2 [==============================] - 0s 148ms/step - loss: 0.0272\n",
      "Epoch 72/100\n",
      "2/2 [==============================] - 0s 137ms/step - loss: 0.0314\n",
      "Epoch 73/100\n",
      "2/2 [==============================] - 0s 113ms/step - loss: 0.0271\n",
      "Epoch 74/100\n",
      "2/2 [==============================] - 0s 104ms/step - loss: 0.0304\n",
      "Epoch 75/100\n",
      "2/2 [==============================] - 0s 132ms/step - loss: 0.0314\n",
      "Epoch 76/100\n",
      "2/2 [==============================] - 0s 161ms/step - loss: 0.0280\n",
      "Epoch 77/100\n",
      "2/2 [==============================] - 0s 146ms/step - loss: 0.0301\n",
      "Epoch 78/100\n",
      "2/2 [==============================] - 0s 156ms/step - loss: 0.0287\n",
      "Epoch 79/100\n",
      "2/2 [==============================] - 0s 143ms/step - loss: 0.0304\n",
      "Epoch 80/100\n",
      "2/2 [==============================] - 0s 166ms/step - loss: 0.0314\n",
      "Epoch 81/100\n",
      "2/2 [==============================] - 0s 130ms/step - loss: 0.0292\n",
      "Epoch 82/100\n",
      "2/2 [==============================] - 0s 101ms/step - loss: 0.0292\n",
      "Epoch 83/100\n",
      "2/2 [==============================] - 0s 126ms/step - loss: 0.0290\n",
      "Epoch 84/100\n",
      "2/2 [==============================] - 0s 105ms/step - loss: 0.0334\n",
      "Epoch 85/100\n",
      "2/2 [==============================] - 0s 134ms/step - loss: 0.0287\n",
      "Epoch 86/100\n",
      "2/2 [==============================] - 0s 130ms/step - loss: 0.0314\n",
      "Epoch 87/100\n",
      "2/2 [==============================] - 0s 122ms/step - loss: 0.0319\n",
      "Epoch 88/100\n",
      "2/2 [==============================] - 0s 128ms/step - loss: 0.0329\n",
      "Epoch 89/100\n",
      "2/2 [==============================] - 0s 115ms/step - loss: 0.0296\n",
      "Epoch 90/100\n",
      "2/2 [==============================] - 0s 129ms/step - loss: 0.0335\n",
      "Epoch 91/100\n",
      "2/2 [==============================] - 0s 126ms/step - loss: 0.0294\n",
      "Epoch 92/100\n",
      "2/2 [==============================] - 0s 157ms/step - loss: 0.0269\n",
      "Epoch 93/100\n",
      "2/2 [==============================] - 0s 153ms/step - loss: 0.0335\n",
      "Epoch 94/100\n",
      "2/2 [==============================] - 0s 155ms/step - loss: 0.0273\n",
      "Epoch 95/100\n",
      "2/2 [==============================] - 0s 105ms/step - loss: 0.0246\n",
      "Epoch 96/100\n",
      "2/2 [==============================] - 0s 115ms/step - loss: 0.0328\n",
      "Epoch 97/100\n",
      "2/2 [==============================] - 0s 126ms/step - loss: 0.0248\n",
      "Epoch 98/100\n",
      "2/2 [==============================] - 0s 165ms/step - loss: 0.0295\n",
      "Epoch 99/100\n",
      "2/2 [==============================] - 0s 121ms/step - loss: 0.0302\n",
      "Epoch 100/100\n",
      "2/2 [==============================] - 0s 173ms/step - loss: 0.0339\n"
     ]
    },
    {
     "data": {
      "text/plain": [
       "<keras.src.callbacks.History at 0x21923c82e80>"
      ]
     },
     "execution_count": 19,
     "metadata": {},
     "output_type": "execute_result"
    }
   ],
   "source": [
    "# model.fit(x = X_train, y = y_train, batch_size = 32, epochs = 100)"
   ]
  },
  {
   "cell_type": "code",
   "execution_count": 20,
   "id": "83d8f646",
   "metadata": {},
   "outputs": [
    {
     "name": "stdout",
     "output_type": "stream",
     "text": [
      "1/1 [==============================] - 0s 59ms/step\n"
     ]
    }
   ],
   "source": [
    "#model evaluation\n",
    "\n",
    "y_pred = model.predict(X_test)\n",
    "y_pred = scaler.inverse_transform(y_pred)\n",
    "\n",
    "y_test = scaler.inverse_transform(y_test.reshape(-1,1))"
   ]
  },
  {
   "cell_type": "code",
   "execution_count": 21,
   "id": "9b6deb83",
   "metadata": {},
   "outputs": [
    {
     "name": "stdout",
     "output_type": "stream",
     "text": [
      "MAE  20.194492821986596\n",
      "MSE  412.3148398399254\n",
      "RMSE  20.305537171912626\n"
     ]
    }
   ],
   "source": [
    "mae = mean_absolute_error(y_test,y_pred)\n",
    "mse = mean_squared_error(y_test,y_pred)\n",
    "rmse = np.sqrt(mse)\n",
    "\n",
    "print('MAE ',mae)\n",
    "print('MSE ',mse)\n",
    "print('RMSE ',rmse)"
   ]
  },
  {
   "cell_type": "code",
   "execution_count": null,
   "id": "9058f365",
   "metadata": {},
   "outputs": [],
   "source": [
    "#prediction\n",
    "last_6_days = df['Close'][-6:].values\n",
    "last_6_days_scaled = scaler.transform(last_6_days.reshape(-1,1))\n",
    "\n",
    "X_pred = []\n",
    "X_pred.append(last_6_days_scaled)\n",
    "X_pred = np.array(X_pred)\n",
    "X_pred = np.reshape(X_pred,(X_pred.shape[0],X_pred.shape[1],1))"
   ]
  },
  {
   "cell_type": "code",
   "execution_count": null,
   "id": "895cd118",
   "metadata": {},
   "outputs": [],
   "source": [
    "pred_price = model.predict(X_pred)\n",
    "pred_price = scaler.inverse_transform(pred_price)\n",
    "\n",
    "print('Predicted price for next day ',pred_price)"
   ]
  },
  {
   "cell_type": "code",
   "execution_count": null,
   "id": "2ea60f06",
   "metadata": {},
   "outputs": [],
   "source": [
    "import matplotlib.pyplot as plt\n",
    "\n",
    "plt.plot(y_test,label='Actual Price')\n",
    "plt.plot(y_pred, label = 'Predicted Price')\n",
    "\n",
    "plt.title('Actual Vs Predicted Price')\n",
    "plt.xlabel('Time')\n",
    "plt.ylabel('Price')\n",
    "plt.legend()\n",
    "plt.grid(True)\n",
    "plt.show()"
   ]
  },
  {
   "cell_type": "code",
   "execution_count": null,
   "id": "3378aa21",
   "metadata": {},
   "outputs": [],
   "source": []
  }
 ],
 "metadata": {
  "kernelspec": {
   "display_name": "Python 3 (ipykernel)",
   "language": "python",
   "name": "python3"
  },
  "language_info": {
   "codemirror_mode": {
    "name": "ipython",
    "version": 3
   },
   "file_extension": ".py",
   "mimetype": "text/x-python",
   "name": "python",
   "nbconvert_exporter": "python",
   "pygments_lexer": "ipython3",
   "version": "3.9.7"
  }
 },
 "nbformat": 4,
 "nbformat_minor": 5
}
