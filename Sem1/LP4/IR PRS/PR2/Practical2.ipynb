{
 "cells": [
  {
   "cell_type": "code",
   "execution_count": 1,
   "id": "a02ee15d",
   "metadata": {},
   "outputs": [
    {
     "name": "stdout",
     "output_type": "stream",
     "text": [
      "A: 0.3878\n",
      "B: 0.3974\n",
      "C: 0.2148\n"
     ]
    }
   ],
   "source": [
    "import numpy as np\n",
    "\n",
    "def pagerank(graph, damping_factor=0.85, max_iterations=100, tol=1e-6):\n",
    "    \"\"\"\n",
    "    Calculate PageRank scores for a given graph.\n",
    "\n",
    "    Args:\n",
    "    - graph: A dictionary representing the web graph. Keys are page names (strings),\n",
    "             and values are lists of pages linking to the key page.\n",
    "    - damping_factor: The damping factor (usually set to 0.85).\n",
    "    - max_iterations: Maximum number of iterations for the PageRank algorithm.\n",
    "    - tol: Convergence tolerance.\n",
    "\n",
    "    Returns:\n",
    "    - A dictionary containing page names as keys and their PageRank scores as values.\n",
    "    \"\"\"\n",
    "\n",
    "    num_pages = len(graph)\n",
    "    initial_pr = 1.0 / num_pages\n",
    "    page_rank = {page: initial_pr for page in graph}\n",
    "\n",
    "    for _ in range(max_iterations):\n",
    "        new_page_rank = {}\n",
    "        for page in graph:\n",
    "            new_pr = (1 - damping_factor) / num_pages\n",
    "            for linking_page in graph:\n",
    "                if page in graph[linking_page]:\n",
    "                    new_pr += damping_factor * (page_rank[linking_page] / len(graph[linking_page]))\n",
    "            new_page_rank[page] = new_pr\n",
    "\n",
    "        # Check for convergence\n",
    "        convergence = True\n",
    "        for page in graph:\n",
    "            if abs(new_page_rank[page] - page_rank[page]) > tol:\n",
    "                convergence = False\n",
    "                break\n",
    "\n",
    "        if convergence:\n",
    "            break\n",
    "\n",
    "        page_rank = new_page_rank\n",
    "\n",
    "    return page_rank\n",
    "\n",
    "# Example usage:\n",
    "if __name__ == \"__main__\":\n",
    "    # Define a simple web graph as a dictionary of page links\n",
    "    web_graph = {\n",
    "        \"A\": [\"B\", \"C\"],\n",
    "        \"B\": [\"A\"],\n",
    "        \"C\": [\"B\"],\n",
    "    }\n",
    "\n",
    "    # Calculate PageRank scores\n",
    "    page_rank_scores = pagerank(web_graph)\n",
    "\n",
    "    # Print the PageRank scores\n",
    "    for page, score in page_rank_scores.items():\n",
    "        print(f\"{page}: {score:.4f}\")\n"
   ]
  },
  {
   "cell_type": "code",
   "execution_count": null,
   "id": "3ab455b2",
   "metadata": {},
   "outputs": [],
   "source": []
  }
 ],
 "metadata": {
  "kernelspec": {
   "display_name": "Python 3 (ipykernel)",
   "language": "python",
   "name": "python3"
  },
  "language_info": {
   "codemirror_mode": {
    "name": "ipython",
    "version": 3
   },
   "file_extension": ".py",
   "mimetype": "text/x-python",
   "name": "python",
   "nbconvert_exporter": "python",
   "pygments_lexer": "ipython3",
   "version": "3.9.7"
  }
 },
 "nbformat": 4,
 "nbformat_minor": 5
}
