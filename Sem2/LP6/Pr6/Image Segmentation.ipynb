{
 "cells": [
  {
   "cell_type": "code",
   "execution_count": 1,
   "metadata": {},
   "outputs": [
    {
     "name": "stdout",
     "output_type": "stream",
     "text": [
      "Once deleted, variables cannot be recovered. Proceed (y/[n])? y\n"
     ]
    }
   ],
   "source": [
    "%reset\n",
    "import numpy as np\n",
    "import sklearn\n",
    "import matplotlib.pyplot as plt\n",
    "import matplotlib.image as mpimg\n",
    "import scipy.io as sio\n",
    "import glob\n",
    "import os\n",
    "import scipy.misc\n",
    "import scipy\n",
    "import pickle\n",
    "from sklearn.cluster import SpectralClustering\n",
    "from sklearn.metrics.pairwise import euclidean_distances\n",
    "from sklearn.metrics.pairwise import manhattan_distances \n",
    "plt.rcParams['figure.figsize'] = (10.0, 8.0) # set default size of plots\n",
    "plt.rcParams['image.interpolation'] = 'nearest'"
   ]
  },
  {
   "cell_type": "code",
   "execution_count": 2,
   "metadata": {},
   "outputs": [],
   "source": [
    "def load_images(test_root, gt_root):\n",
    "    test_images = []\n",
    "    gt_images = []\n",
    "    cnt_1 = 0\n",
    "    cnt_2 = 0\n",
    "    for image_name in glob.glob(f'{test_root}/*.jpg'):\n",
    "        test_image = mpimg.imread(image_name)\n",
    "        if test_image.shape[0] == 321 and cnt_1 != 50:\n",
    "            cnt_1 += 1\n",
    "            _, t = os.path.split(image_name)\n",
    "            filename = os.path.splitext(t)[0]\n",
    "            \n",
    "            gt_img = sio.loadmat(f'{gt_root}{filename}')\n",
    "            gt = np.empty((0,321,481))\n",
    "            for i in range(5):\n",
    "                gt = np.concatenate((gt, gt_img['groundTruth'][0][i][0][0][0].reshape((1,321,481))))\n",
    "            \n",
    "            test_images.append(test_image)\n",
    "            gt_images.append(gt)\n",
    "        else:\n",
    "            cnt_2 += 1\n",
    "    return np.asarray(test_images), np.asarray(gt_images)"
   ]
  },
  {
   "cell_type": "code",
   "execution_count": 3,
   "metadata": {},
   "outputs": [],
   "source": [
    "def display_image_and_gt(images, gt, idx):\n",
    "    f, axes = plt.subplots(2,3,figsize=(20,10))\n",
    "    r,c=2,3\n",
    "    \n",
    "    for i in range(2):\n",
    "        for j in range(3):\n",
    "            if (i,j) == (0,0):\n",
    "                axes[0,0].imshow(images[idx],aspect='auto')\n",
    "                axes[0,0].axis('off')\n",
    "                continue\n",
    "            axes[i,j].imshow(gt[idx,r*i+j-1],aspect='auto')\n",
    "            axes[i,j].axis('off')\n",
    "    plt.subplots_adjust(wspace=0.01,hspace=0.01)\n",
    "    plt.show()"
   ]
  },
  {
   "cell_type": "code",
   "execution_count": 4,
   "metadata": {},
   "outputs": [],
   "source": [
    "def display_clustered_and_gt(clustered, gt, idx):\n",
    "    f, axes = plt.subplots(2,3,figsize=(20,10))\n",
    "    r,c=2,3\n",
    "\n",
    "    for i in range(2):\n",
    "        for j in range(3):\n",
    "            if (i,j) == (0,0):\n",
    "                axes[0,0].imshow(clustered[idx*5+2],aspect='auto')\n",
    "                axes[0,0].axis('off')\n",
    "                continue\n",
    "            axes[i,j].imshow(gt[idx,r*i+j-1],aspect='auto')\n",
    "            axes[i,j].axis('off')\n",
    "    plt.subplots_adjust(wspace=0.01,hspace=0.01)\n",
    "    plt.show()"
   ]
  },
  {
   "cell_type": "code",
   "execution_count": 5,
   "metadata": {},
   "outputs": [],
   "source": [
    "def display_image_and_image(images1, images2, idx):\n",
    "    f, axes = plt.subplots(1,2,figsize=(20,10))\n",
    "    \n",
    "    axes[0].imshow(images1[idx],aspect='auto')\n",
    "    axes[0].axis('off')\n",
    "    axes[1].imshow(images2[idx*5+2],aspect='auto')\n",
    "    axes[1].axis('off')\n",
    "\n",
    "    plt.subplots_adjust(wspace=0.01,hspace=0.01)\n",
    "    plt.show()"
   ]
  },
  {
   "cell_type": "code",
   "execution_count": 6,
   "metadata": {},
   "outputs": [],
   "source": [
    "def rel_diff(x, y):\n",
    "    return abs(x-y)/max(x,y)\n",
    "\n",
    "def k_means(points, k=3, threshold=0.001, max_iters=100, dist_func='euclidean'):\n",
    "    '''\n",
    "        returns a numpy array with the centroid of each point at its index in the\n",
    "        points array, and an array containing the centroids\n",
    "    '''\n",
    "    \n",
    "    dist = {'euclidean':euclidean_distances, 'manhattan':manhattan_distances}[dist_func]\n",
    "    # assume points are gaussian and pick k random points from the destribution as the centroids\n",
    "    centroids = np.random.randn(k, points.shape[1])\n",
    "    prev_loss = 1e9\n",
    "    for i in range(max_iters):\n",
    "        dists_to_centroids = dist(X=points, Y=centroids)\n",
    "        assignment = np.argmin(dists_to_centroids, axis=1)\n",
    "        loss = np.sum(np.linalg.norm(centroids[assignment] - points, axis=1)**2)\n",
    "        if rel_diff(loss, prev_loss) <= threshold:\n",
    "            break\n",
    "        prev_loss = loss\n",
    "        # update the centroids\n",
    "        for cent_idx in range(k):\n",
    "            cent_points = points[np.where(assignment==cent_idx)]\n",
    "            if cent_points.shape[0] > 0: # to protect against when no points belong to the centroid\n",
    "                centroids[cent_idx] = np.mean(cent_points, axis=0)\n",
    "        \n",
    "    return assignment, centroids, loss\n",
    "\n",
    "def k_means_rep(points, k=3, threshold=0.001, max_iters=100, dist_func='euclidean', reps=1, ):\n",
    "    min_loss = 1e15\n",
    "    best_centroids, best_assignment = None, None\n",
    "    for rep in range(reps):\n",
    "        assignment, centroids, loss = k_means(points=points, k=k, threshold=threshold, max_iters=max_iters, dist_func=dist_func)\n",
    "        if loss <= min_loss:\n",
    "            min_loss, best_centroids, best_assignment = loss, centroids, assignment\n",
    "    return best_assignment, best_centroids, min_loss"
   ]
  },
  {
   "cell_type": "code",
   "execution_count": 7,
   "metadata": {},
   "outputs": [],
   "source": [
    "def segment_images(test, root, added_f=0):\n",
    "    file_exists = os.path.isfile(root)\n",
    "    \n",
    "    if not file_exists:\n",
    "        assignments = []\n",
    "        xx = np.arange(321)\n",
    "        yy = np.arange(481)\n",
    "        X, Y = np.meshgrid(yy, xx)\n",
    "        \n",
    "        for i in range (0,test.shape[0]):\n",
    "            for k in [3,5,7,9,11]:\n",
    "                if added_f ==0:\n",
    "                    pixel_map = test[i].reshape(test[i].shape[0]*test[i].shape[1],test[i].shape[2])\n",
    "                    assignment, _, _ = k_means_rep(points=pixel_map, k=k, reps=5)\n",
    "                else:\n",
    "                    pixel_map = np.concatenate((Y.reshape(321,481,1),X.reshape(321,481,1),test[i]),axis=2)\n",
    "                    assignment, _, _ = k_means_rep(points=pixel_map.reshape(-1,pixel_map.shape[2]), k=k, reps=5)\n",
    "                z = assignment.reshape((321,481))\n",
    "                z = np.rot90(z,2)\n",
    "                z = np .fliplr(z)\n",
    "\n",
    "                fig = plt.figure()\n",
    "                h = plt.contourf(X,Y,z)\n",
    "                plt.axis('off')\n",
    "                plt.subplots_adjust(top = 1, bottom = 0, right = 1, left = 0, hspace = 0, wspace = 0)\n",
    "    #             plt.imsave(f'./Images/{i}_{k}.jpg', z, origin='lower', cmap=h.get_cmap)\n",
    "                plt.savefig(f'./Images/{i}_{k}.jpg')\n",
    "    #             scipy.misc.imsave(f'./Images/{i}_{k}.jpg', z)\n",
    "\n",
    "                assignments.append(z)\n",
    "        ass_array = np.asarray(assignments)\n",
    "        np.save(root, ass_array)\n",
    "        return ass_array\n",
    "    \n",
    "    else:\n",
    "        ass_array = np.load(root)\n",
    "        return ass_array\n",
    "    "
   ]
  },
  {
   "cell_type": "code",
   "execution_count": 8,
   "metadata": {},
   "outputs": [],
   "source": [
    "#Conditional Entropy\n",
    "def cond_entropy(p, c):\n",
    "    clusters, counts = np.unique(c, return_counts=True)\n",
    "    count = dict(zip(clusters, counts))\n",
    "    H = 0\n",
    "    for i in clusters:\n",
    "#         print(\"cluster : \", i)\n",
    "        h = 0\n",
    "        occurances = {}\n",
    "        posx,posy = np.where(c == i)\n",
    "        for j in range(0,len(posx)):\n",
    "            idx,idy = posx[j],posy[j]\n",
    "            if p[idx][idy] not in occurances.keys():\n",
    "                occurances[p[idx][idy]] = 1\n",
    "            else:\n",
    "                occurances[p[idx][idy]] += 1\n",
    "#         print(occurances)\n",
    "        for key in occurances.keys():\n",
    "            h -= (occurances[key]/count[i])*np.log10(occurances[key]/count[i])\n",
    "#         print(\"h is \", h)\n",
    "        H += (count[i]/(c.shape[0]*c.shape[1])) * h\n",
    "#         print(\"H is \", H)\n",
    "    return (1/clusters.shape[0]) * H\n"
   ]
  },
  {
   "cell_type": "code",
   "execution_count": 9,
   "metadata": {},
   "outputs": [],
   "source": [
    "def f_measure(images_segmented,gt):\n",
    "    print(gt.shape)\n",
    "    f_measure_allsamples= []\n",
    "    j = 0\n",
    "    for i  in range (0,images_segmented.shape[0],5):\n",
    "        f_measure_avgM=[]\n",
    "        for k in range (i,i+5):\n",
    "            f_measure_KforeachM= []\n",
    "            ground_truth = gt[j]\n",
    "            for M in range (0,ground_truth.shape[0]):\n",
    "                \n",
    "                clusters, ccounts = np.unique(images_segmented[k], return_counts=True)\n",
    "                F= 0\n",
    "#                 print(clusters)\n",
    "#                 print(ccounts)\n",
    "                for s in range (0,clusters.shape[0]):\n",
    "                    pos = np.where(images_segmented[k]==clusters[s])\n",
    "                    partition= ground_truth[M][pos]\n",
    "\n",
    "                    partitions, pcounts = np.unique(partition, return_counts=True)\n",
    "\n",
    "                    gtpartitions,gtcounts= np.unique(ground_truth[M],return_counts=True)\n",
    "\n",
    "                    idx = np.argmax(pcounts)\n",
    "                    lookfor= partitions[idx]\n",
    "\n",
    "                    current= np.where(gtpartitions==lookfor)\n",
    "                    currentCount = gtcounts[current]\n",
    "                    purity =(np.amax(pcounts))/partition.shape[0]\n",
    "                    recall = (np.amax(pcounts))/currentCount\n",
    "\n",
    "                    F += (2*purity*recall)/(purity+recall)\n",
    "#                 print(f'F:{F}') \n",
    "                f_measure_KforeachM.append(F)\n",
    "            f_measure_avgM.append(np.average(f_measure_KforeachM))\n",
    "#         print(f'avgM:{f_measure_avgM}') \n",
    "        f_measure_allsamples.append(f_measure_avgM)      \n",
    "        j+=1 \n",
    "    result = np.asarray(f_measure_allsamples)\n",
    "    result = result.reshape((50,5))\n",
    "    return result"
   ]
  },
  {
   "cell_type": "code",
   "execution_count": 23,
   "metadata": {},
   "outputs": [],
   "source": [
    "def spectral_segment(img, resize_percent=1, n_clusters=5,add_spatial=False):\n",
    "    img = scipy.misc.imresize(img,resize_percent) / 255\n",
    "    h,w,_=img.shape\n",
    "    xx = np.arange(w)\n",
    "    yy = np.arange(h)\n",
    "    X, Y = np.meshgrid(yy, xx)\n",
    "    pixel_map = np.concatenate((Y.reshape(h,w,1),X.reshape(h,w,1),img),axis=2)\n",
    "    if not add_spatial:\n",
    "        pixel_map = img\n",
    "    cluster_idx =  SpectralClustering(n_clusters=n_clusters, affinity='nearest_neighbors',\n",
    "                                      n_neighbors=n_clusters,\n",
    "                                      n_jobs=-1, eigen_solver='arpack').fit_predict(pixel_map.reshape(-1,pixel_map.shape[-1]))\n",
    "    return cluster_idx.reshape(img.shape[0],img.shape[1])\n",
    "\n",
    "def evaluate_spectral(images, resize_percent=1, n_images=5, n_clusters=5,add_spatial=False):\n",
    "    clustered_images = []\n",
    "    for i in range(n_images):\n",
    "        clustered_images.append(spectral_segment(images[i], resize_percent, n_clusters,add_spatial))\n",
    "        with open(f'spectral_labels_{i}.pkl', 'wb+') as f:\n",
    "            pickle.dump(clustered_images[-1], f)\n",
    "        print(f'clustered image {i}')\n",
    "    return clustered_images\n",
    "\n",
    "def spectral_segment(img, resize_percent=1, n_clusters=5, n_neighbors=5, add_spatial=False):\n",
    "    img = scipy.misc.imresize(img,resize_percent)\n",
    "    h,w,_=img.shape\n",
    "    xx = np.arange(w)\n",
    "    yy = np.arange(h)\n",
    "    X, Y = np.meshgrid(yy, xx)\n",
    "    pixel_map = np.concatenate((Y.reshape(h,w,1),X.reshape(h,w,1),img),axis=2)\n",
    "    if not add_spatial:\n",
    "        pixel_map = img\n",
    "    cluster_idx =  SpectralClustering(n_clusters=n_clusters, affinity='nearest_neighbors',\n",
    "                                      n_neighbors=n_neighbors,\n",
    "                                      n_jobs=-1, eigen_solver='arpack').fit_predict(pixel_map.reshape(-1,pixel_map.shape[-1]))\n",
    "    return cluster_idx.reshape(img.shape[0],img.shape[1])"
   ]
  },
  {
   "cell_type": "code",
   "execution_count": 26,
   "metadata": {
    "scrolled": false
   },
   "outputs": [
    {
     "data": {
      "text/plain": [
       "(0,)"
      ]
     },
     "execution_count": 26,
     "metadata": {},
     "output_type": "execute_result"
    }
   ],
   "source": [
    "root_test, root_gt = 'BSR_bsds500/BSR/BSDS500/data/images/test/', 'BSR_bsds500/BSR/BSDS500/data/groundTruth/test/'\n",
    "root_images = 'gt_seg.npy'\n",
    "root_added_f = 'gt_seg_added_f.npy'\n",
    "\n",
    "test, ground_truth = load_images(root_test, root_gt)\n",
    "ground_truth.shape"
   ]
  },
  {
   "cell_type": "code",
   "execution_count": 27,
   "metadata": {},
   "outputs": [
    {
     "ename": "IndexError",
     "evalue": "index 2 is out of bounds for axis 0 with size 0",
     "output_type": "error",
     "traceback": [
      "\u001b[0;31m---------------------------------------------------------------------------\u001b[0m",
      "\u001b[0;31mIndexError\u001b[0m                                Traceback (most recent call last)",
      "Cell \u001b[0;32mIn[27], line 1\u001b[0m\n\u001b[0;32m----> 1\u001b[0m \u001b[43mdisplay_image_and_gt\u001b[49m\u001b[43m(\u001b[49m\u001b[43mtest\u001b[49m\u001b[43m,\u001b[49m\u001b[43mground_truth\u001b[49m\u001b[43m,\u001b[49m\u001b[43m \u001b[49m\u001b[38;5;241;43m2\u001b[39;49m\u001b[43m)\u001b[49m\n",
      "Cell \u001b[0;32mIn[3], line 8\u001b[0m, in \u001b[0;36mdisplay_image_and_gt\u001b[0;34m(images, gt, idx)\u001b[0m\n\u001b[1;32m      6\u001b[0m \u001b[38;5;28;01mfor\u001b[39;00m j \u001b[38;5;129;01min\u001b[39;00m \u001b[38;5;28mrange\u001b[39m(\u001b[38;5;241m3\u001b[39m):\n\u001b[1;32m      7\u001b[0m     \u001b[38;5;28;01mif\u001b[39;00m (i,j) \u001b[38;5;241m==\u001b[39m (\u001b[38;5;241m0\u001b[39m,\u001b[38;5;241m0\u001b[39m):\n\u001b[0;32m----> 8\u001b[0m         axes[\u001b[38;5;241m0\u001b[39m,\u001b[38;5;241m0\u001b[39m]\u001b[38;5;241m.\u001b[39mimshow(\u001b[43mimages\u001b[49m\u001b[43m[\u001b[49m\u001b[43midx\u001b[49m\u001b[43m]\u001b[49m,aspect\u001b[38;5;241m=\u001b[39m\u001b[38;5;124m'\u001b[39m\u001b[38;5;124mauto\u001b[39m\u001b[38;5;124m'\u001b[39m)\n\u001b[1;32m      9\u001b[0m         axes[\u001b[38;5;241m0\u001b[39m,\u001b[38;5;241m0\u001b[39m]\u001b[38;5;241m.\u001b[39maxis(\u001b[38;5;124m'\u001b[39m\u001b[38;5;124moff\u001b[39m\u001b[38;5;124m'\u001b[39m)\n\u001b[1;32m     10\u001b[0m         \u001b[38;5;28;01mcontinue\u001b[39;00m\n",
      "\u001b[0;31mIndexError\u001b[0m: index 2 is out of bounds for axis 0 with size 0"
     ]
    },
    {
     "data": {
      "image/png": "[encoded data removed]",
      "text/plain": [
       "<Figure size 2000x1000 with 6 Axes>"
      ]
     },
     "metadata": {},
     "output_type": "display_data"
    }
   ],
   "source": [
    "display_image_and_gt(test,ground_truth, 2)"
   ]
  },
  {
   "cell_type": "markdown",
   "metadata": {},
   "source": [
    "**K-means Clustering**"
   ]
  },
  {
   "cell_type": "code",
   "execution_count": 28,
   "metadata": {},
   "outputs": [],
   "source": [
    "a = segment_images(test,root_images,added_f=0)"
   ]
  },
  {
   "cell_type": "markdown",
   "metadata": {},
   "source": [
    "#### *F-measure*"
   ]
  },
  {
   "cell_type": "code",
   "execution_count": null,
   "metadata": {},
   "outputs": [],
   "source": [
    "f_measures = f_measure(a,ground_truth)"
   ]
  },
  {
   "cell_type": "code",
   "execution_count": null,
   "metadata": {
    "scrolled": true
   },
   "outputs": [],
   "source": [
    "print(\"F-measure:\\n\")\n",
    "print(np.average(f_measures))\n",
    "print(np.amax(f_measures))\n",
    "print(np.amin(f_measures))"
   ]
  },
  {
   "cell_type": "markdown",
   "metadata": {},
   "source": [
    "#### *Conditional Entropy*"
   ]
  },
  {
   "cell_type": "code",
   "execution_count": 13,
   "metadata": {
    "scrolled": true
   },
   "outputs": [
    {
     "ename": "NameError",
     "evalue": "name 'a' is not defined",
     "output_type": "error",
     "traceback": [
      "\u001b[0;31m---------------------------------------------------------------------------\u001b[0m",
      "\u001b[0;31mNameError\u001b[0m                                 Traceback (most recent call last)",
      "Cell \u001b[0;32mIn[13], line 2\u001b[0m\n\u001b[1;32m      1\u001b[0m avg \u001b[38;5;241m=\u001b[39m []\n\u001b[0;32m----> 2\u001b[0m \u001b[38;5;28;01mfor\u001b[39;00m i \u001b[38;5;129;01min\u001b[39;00m \u001b[38;5;28mrange\u001b[39m(\u001b[38;5;241m0\u001b[39m,\u001b[43ma\u001b[49m\u001b[38;5;241m.\u001b[39mshape[\u001b[38;5;241m0\u001b[39m]):\n\u001b[1;32m      3\u001b[0m     k\u001b[38;5;241m=\u001b[39mi\u001b[38;5;241m%\u001b[39m\u001b[38;5;241m5\u001b[39m\n\u001b[1;32m      4\u001b[0m     \u001b[38;5;28mprint\u001b[39m(\u001b[38;5;124m\"\u001b[39m\u001b[38;5;124mevaluating image \u001b[39m\u001b[38;5;124m\"\u001b[39m, \u001b[38;5;28mstr\u001b[39m(\u001b[38;5;28mint\u001b[39m(i\u001b[38;5;241m/\u001b[39m\u001b[38;5;241m5\u001b[39m)), \u001b[38;5;124m\"\u001b[39m\u001b[38;5;124m with k = \u001b[39m\u001b[38;5;124m\"\u001b[39m, \u001b[38;5;28mstr\u001b[39m((\u001b[38;5;241m2\u001b[39m\u001b[38;5;241m*\u001b[39mk\u001b[38;5;241m+\u001b[39m\u001b[38;5;241m3\u001b[39m)))\n",
      "\u001b[0;31mNameError\u001b[0m: name 'a' is not defined"
     ]
    }
   ],
   "source": [
    "avg = []\n",
    "for i in range(0,a.shape[0]):\n",
    "    k=i%5\n",
    "    print(\"evaluating image \", str(int(i/5)), \" with k = \", str((2*k+3)))\n",
    "    average = 0\n",
    "    for j in range(ground_truth.shape[1]):\n",
    "        average += cond_entropy(ground_truth[int(i/5)][j], a[i])\n",
    "    average = average/ground_truth.shape[1]\n",
    "    avg.append(average)"
   ]
  },
  {
   "cell_type": "code",
   "execution_count": 14,
   "metadata": {},
   "outputs": [
    {
     "name": "stdout",
     "output_type": "stream",
     "text": [
      "Conditional Entropy:\n",
      "\n",
      "nan\n"
     ]
    },
    {
     "name": "stderr",
     "output_type": "stream",
     "text": [
      "/Library/Frameworks/Python.framework/Versions/3.8/lib/python3.8/site-packages/numpy/lib/function_base.py:518: RuntimeWarning: Mean of empty slice.\n",
      "  avg = a.mean(axis, **keepdims_kw)\n",
      "/Library/Frameworks/Python.framework/Versions/3.8/lib/python3.8/site-packages/numpy/core/_methods.py:192: RuntimeWarning: invalid value encountered in scalar divide\n",
      "  ret = ret.dtype.type(ret / rcount)\n"
     ]
    },
    {
     "ename": "ValueError",
     "evalue": "zero-size array to reduction operation minimum which has no identity",
     "output_type": "error",
     "traceback": [
      "\u001b[0;31m---------------------------------------------------------------------------\u001b[0m",
      "\u001b[0;31mValueError\u001b[0m                                Traceback (most recent call last)",
      "Cell \u001b[0;32mIn[14], line 3\u001b[0m\n\u001b[1;32m      1\u001b[0m \u001b[38;5;28mprint\u001b[39m(\u001b[38;5;124m\"\u001b[39m\u001b[38;5;124mConditional Entropy:\u001b[39m\u001b[38;5;130;01m\\n\u001b[39;00m\u001b[38;5;124m\"\u001b[39m)\n\u001b[1;32m      2\u001b[0m \u001b[38;5;28mprint\u001b[39m(np\u001b[38;5;241m.\u001b[39maverage(avg))\n\u001b[0;32m----> 3\u001b[0m \u001b[38;5;28mprint\u001b[39m(\u001b[43mnp\u001b[49m\u001b[38;5;241;43m.\u001b[39;49m\u001b[43mmin\u001b[49m\u001b[43m(\u001b[49m\u001b[43mavg\u001b[49m\u001b[43m)\u001b[49m)\n\u001b[1;32m      4\u001b[0m \u001b[38;5;28mprint\u001b[39m(np\u001b[38;5;241m.\u001b[39mmax(avg))\n",
      "File \u001b[0;32m<__array_function__ internals>:200\u001b[0m, in \u001b[0;36mamin\u001b[0;34m(*args, **kwargs)\u001b[0m\n",
      "File \u001b[0;32m/Library/Frameworks/Python.framework/Versions/3.8/lib/python3.8/site-packages/numpy/core/fromnumeric.py:2946\u001b[0m, in \u001b[0;36mamin\u001b[0;34m(a, axis, out, keepdims, initial, where)\u001b[0m\n\u001b[1;32m   2829\u001b[0m \u001b[38;5;129m@array_function_dispatch\u001b[39m(_amin_dispatcher)\n\u001b[1;32m   2830\u001b[0m \u001b[38;5;28;01mdef\u001b[39;00m \u001b[38;5;21mamin\u001b[39m(a, axis\u001b[38;5;241m=\u001b[39m\u001b[38;5;28;01mNone\u001b[39;00m, out\u001b[38;5;241m=\u001b[39m\u001b[38;5;28;01mNone\u001b[39;00m, keepdims\u001b[38;5;241m=\u001b[39mnp\u001b[38;5;241m.\u001b[39m_NoValue, initial\u001b[38;5;241m=\u001b[39mnp\u001b[38;5;241m.\u001b[39m_NoValue,\n\u001b[1;32m   2831\u001b[0m          where\u001b[38;5;241m=\u001b[39mnp\u001b[38;5;241m.\u001b[39m_NoValue):\n\u001b[1;32m   2832\u001b[0m \u001b[38;5;250m    \u001b[39m\u001b[38;5;124;03m\"\"\"\u001b[39;00m\n\u001b[1;32m   2833\u001b[0m \u001b[38;5;124;03m    Return the minimum of an array or minimum along an axis.\u001b[39;00m\n\u001b[1;32m   2834\u001b[0m \n\u001b[0;32m   (...)\u001b[0m\n\u001b[1;32m   2944\u001b[0m \u001b[38;5;124;03m    6\u001b[39;00m\n\u001b[1;32m   2945\u001b[0m \u001b[38;5;124;03m    \"\"\"\u001b[39;00m\n\u001b[0;32m-> 2946\u001b[0m     \u001b[38;5;28;01mreturn\u001b[39;00m \u001b[43m_wrapreduction\u001b[49m\u001b[43m(\u001b[49m\u001b[43ma\u001b[49m\u001b[43m,\u001b[49m\u001b[43m \u001b[49m\u001b[43mnp\u001b[49m\u001b[38;5;241;43m.\u001b[39;49m\u001b[43mminimum\u001b[49m\u001b[43m,\u001b[49m\u001b[43m \u001b[49m\u001b[38;5;124;43m'\u001b[39;49m\u001b[38;5;124;43mmin\u001b[39;49m\u001b[38;5;124;43m'\u001b[39;49m\u001b[43m,\u001b[49m\u001b[43m \u001b[49m\u001b[43maxis\u001b[49m\u001b[43m,\u001b[49m\u001b[43m \u001b[49m\u001b[38;5;28;43;01mNone\u001b[39;49;00m\u001b[43m,\u001b[49m\u001b[43m \u001b[49m\u001b[43mout\u001b[49m\u001b[43m,\u001b[49m\n\u001b[1;32m   2947\u001b[0m \u001b[43m                          \u001b[49m\u001b[43mkeepdims\u001b[49m\u001b[38;5;241;43m=\u001b[39;49m\u001b[43mkeepdims\u001b[49m\u001b[43m,\u001b[49m\u001b[43m \u001b[49m\u001b[43minitial\u001b[49m\u001b[38;5;241;43m=\u001b[39;49m\u001b[43minitial\u001b[49m\u001b[43m,\u001b[49m\u001b[43m \u001b[49m\u001b[43mwhere\u001b[49m\u001b[38;5;241;43m=\u001b[39;49m\u001b[43mwhere\u001b[49m\u001b[43m)\u001b[49m\n",
      "File \u001b[0;32m/Library/Frameworks/Python.framework/Versions/3.8/lib/python3.8/site-packages/numpy/core/fromnumeric.py:86\u001b[0m, in \u001b[0;36m_wrapreduction\u001b[0;34m(obj, ufunc, method, axis, dtype, out, **kwargs)\u001b[0m\n\u001b[1;32m     83\u001b[0m         \u001b[38;5;28;01melse\u001b[39;00m:\n\u001b[1;32m     84\u001b[0m             \u001b[38;5;28;01mreturn\u001b[39;00m reduction(axis\u001b[38;5;241m=\u001b[39maxis, out\u001b[38;5;241m=\u001b[39mout, \u001b[38;5;241m*\u001b[39m\u001b[38;5;241m*\u001b[39mpasskwargs)\n\u001b[0;32m---> 86\u001b[0m \u001b[38;5;28;01mreturn\u001b[39;00m \u001b[43mufunc\u001b[49m\u001b[38;5;241;43m.\u001b[39;49m\u001b[43mreduce\u001b[49m\u001b[43m(\u001b[49m\u001b[43mobj\u001b[49m\u001b[43m,\u001b[49m\u001b[43m \u001b[49m\u001b[43maxis\u001b[49m\u001b[43m,\u001b[49m\u001b[43m \u001b[49m\u001b[43mdtype\u001b[49m\u001b[43m,\u001b[49m\u001b[43m \u001b[49m\u001b[43mout\u001b[49m\u001b[43m,\u001b[49m\u001b[43m \u001b[49m\u001b[38;5;241;43m*\u001b[39;49m\u001b[38;5;241;43m*\u001b[39;49m\u001b[43mpasskwargs\u001b[49m\u001b[43m)\u001b[49m\n",
      "\u001b[0;31mValueError\u001b[0m: zero-size array to reduction operation minimum which has no identity"
     ]
    }
   ],
   "source": [
    "print(\"Conditional Entropy:\\n\")\n",
    "print(np.average(avg))\n",
    "print(np.min(avg))\n",
    "print(np.max(avg))"
   ]
  },
  {
   "cell_type": "markdown",
   "metadata": {},
   "source": [
    "**Spectral Clustring**"
   ]
  },
  {
   "cell_type": "code",
   "execution_count": 15,
   "metadata": {
    "scrolled": true
   },
   "outputs": [
    {
     "ename": "IndexError",
     "evalue": "index 0 is out of bounds for axis 0 with size 0",
     "output_type": "error",
     "traceback": [
      "\u001b[0;31m---------------------------------------------------------------------------\u001b[0m",
      "\u001b[0;31mIndexError\u001b[0m                                Traceback (most recent call last)",
      "Cell \u001b[0;32mIn[15], line 1\u001b[0m\n\u001b[0;32m----> 1\u001b[0m clustered_images \u001b[38;5;241m=\u001b[39m \u001b[43mevaluate_spectral\u001b[49m\u001b[43m(\u001b[49m\u001b[43mtest\u001b[49m\u001b[43m,\u001b[49m\u001b[43m \u001b[49m\u001b[38;5;241;43m0.30\u001b[39;49m\u001b[43m,\u001b[49m\u001b[43mn_images\u001b[49m\u001b[38;5;241;43m=\u001b[39;49m\u001b[38;5;241;43m5\u001b[39;49m\u001b[43m)\u001b[49m\n",
      "Cell \u001b[0;32mIn[10], line 18\u001b[0m, in \u001b[0;36mevaluate_spectral\u001b[0;34m(images, resize_percent, n_images, n_clusters, add_spatial)\u001b[0m\n\u001b[1;32m     16\u001b[0m clustered_images \u001b[38;5;241m=\u001b[39m []\n\u001b[1;32m     17\u001b[0m \u001b[38;5;28;01mfor\u001b[39;00m i \u001b[38;5;129;01min\u001b[39;00m \u001b[38;5;28mrange\u001b[39m(n_images):\n\u001b[0;32m---> 18\u001b[0m     clustered_images\u001b[38;5;241m.\u001b[39mappend(spectral_segment(\u001b[43mimages\u001b[49m\u001b[43m[\u001b[49m\u001b[43mi\u001b[49m\u001b[43m]\u001b[49m, resize_percent, n_clusters,add_spatial))\n\u001b[1;32m     19\u001b[0m     \u001b[38;5;28;01mwith\u001b[39;00m \u001b[38;5;28mopen\u001b[39m(\u001b[38;5;124mf\u001b[39m\u001b[38;5;124m'\u001b[39m\u001b[38;5;124mspectral_labels_\u001b[39m\u001b[38;5;132;01m{\u001b[39;00mi\u001b[38;5;132;01m}\u001b[39;00m\u001b[38;5;124m.pkl\u001b[39m\u001b[38;5;124m'\u001b[39m, \u001b[38;5;124m'\u001b[39m\u001b[38;5;124mwb+\u001b[39m\u001b[38;5;124m'\u001b[39m) \u001b[38;5;28;01mas\u001b[39;00m f:\n\u001b[1;32m     20\u001b[0m         pickle\u001b[38;5;241m.\u001b[39mdump(clustered_images[\u001b[38;5;241m-\u001b[39m\u001b[38;5;241m1\u001b[39m], f)\n",
      "\u001b[0;31mIndexError\u001b[0m: index 0 is out of bounds for axis 0 with size 0"
     ]
    }
   ],
   "source": [
    "clustered_images = evaluate_spectral(test, 0.30,n_images=5)"
   ]
  },
  {
   "cell_type": "markdown",
   "metadata": {},
   "source": [
    "#### *Conditional Entropy for Spectral Clustering*"
   ]
  },
  {
   "cell_type": "code",
   "execution_count": 16,
   "metadata": {
    "scrolled": true
   },
   "outputs": [
    {
     "ename": "NameError",
     "evalue": "name 'clustered_images' is not defined",
     "output_type": "error",
     "traceback": [
      "\u001b[0;31m---------------------------------------------------------------------------\u001b[0m",
      "\u001b[0;31mNameError\u001b[0m                                 Traceback (most recent call last)",
      "Cell \u001b[0;32mIn[16], line 2\u001b[0m\n\u001b[1;32m      1\u001b[0m avg \u001b[38;5;241m=\u001b[39m []\n\u001b[0;32m----> 2\u001b[0m \u001b[38;5;28;01mfor\u001b[39;00m i \u001b[38;5;129;01min\u001b[39;00m \u001b[38;5;28mrange\u001b[39m(\u001b[38;5;241m0\u001b[39m,np\u001b[38;5;241m.\u001b[39masarray(\u001b[43mclustered_images\u001b[49m)\u001b[38;5;241m.\u001b[39mshape[\u001b[38;5;241m0\u001b[39m]):\n\u001b[1;32m      3\u001b[0m     k\u001b[38;5;241m=\u001b[39mi\u001b[38;5;241m%\u001b[39m\u001b[38;5;241m5\u001b[39m\n\u001b[1;32m      4\u001b[0m     \u001b[38;5;28mprint\u001b[39m(\u001b[38;5;124m\"\u001b[39m\u001b[38;5;124mevaluating image \u001b[39m\u001b[38;5;124m\"\u001b[39m, \u001b[38;5;28mstr\u001b[39m(\u001b[38;5;28mint\u001b[39m(i\u001b[38;5;241m/\u001b[39m\u001b[38;5;241m5\u001b[39m)), \u001b[38;5;124m\"\u001b[39m\u001b[38;5;124m with k = \u001b[39m\u001b[38;5;124m\"\u001b[39m, \u001b[38;5;28mstr\u001b[39m((\u001b[38;5;241m2\u001b[39m\u001b[38;5;241m*\u001b[39mk\u001b[38;5;241m+\u001b[39m\u001b[38;5;241m3\u001b[39m)))\n",
      "\u001b[0;31mNameError\u001b[0m: name 'clustered_images' is not defined"
     ]
    }
   ],
   "source": [
    "avg = []\n",
    "for i in range(0,np.asarray(clustered_images).shape[0]):\n",
    "    k=i%5\n",
    "    print(\"evaluating image \", str(int(i/5)), \" with k = \", str((2*k+3)))\n",
    "    average = 0\n",
    "    for j in range(ground_truth.shape[1]):\n",
    "        average += cond_entropy(ground_truth[int(i/5)][j], a[i])\n",
    "    average = average/ground_truth.shape[1]\n",
    "    avg.append(average)"
   ]
  },
  {
   "cell_type": "code",
   "execution_count": 17,
   "metadata": {},
   "outputs": [
    {
     "name": "stdout",
     "output_type": "stream",
     "text": [
      "Conditional Entropy:\n",
      "\n",
      "nan\n"
     ]
    },
    {
     "ename": "ValueError",
     "evalue": "zero-size array to reduction operation minimum which has no identity",
     "output_type": "error",
     "traceback": [
      "\u001b[0;31m---------------------------------------------------------------------------\u001b[0m",
      "\u001b[0;31mValueError\u001b[0m                                Traceback (most recent call last)",
      "Cell \u001b[0;32mIn[17], line 3\u001b[0m\n\u001b[1;32m      1\u001b[0m \u001b[38;5;28mprint\u001b[39m(\u001b[38;5;124m\"\u001b[39m\u001b[38;5;124mConditional Entropy:\u001b[39m\u001b[38;5;130;01m\\n\u001b[39;00m\u001b[38;5;124m\"\u001b[39m)\n\u001b[1;32m      2\u001b[0m \u001b[38;5;28mprint\u001b[39m(np\u001b[38;5;241m.\u001b[39maverage(avg))\n\u001b[0;32m----> 3\u001b[0m \u001b[38;5;28mprint\u001b[39m(\u001b[43mnp\u001b[49m\u001b[38;5;241;43m.\u001b[39;49m\u001b[43mmin\u001b[49m\u001b[43m(\u001b[49m\u001b[43mavg\u001b[49m\u001b[43m)\u001b[49m)\n\u001b[1;32m      4\u001b[0m \u001b[38;5;28mprint\u001b[39m(np\u001b[38;5;241m.\u001b[39mmax(avg))\n",
      "File \u001b[0;32m<__array_function__ internals>:200\u001b[0m, in \u001b[0;36mamin\u001b[0;34m(*args, **kwargs)\u001b[0m\n",
      "File \u001b[0;32m/Library/Frameworks/Python.framework/Versions/3.8/lib/python3.8/site-packages/numpy/core/fromnumeric.py:2946\u001b[0m, in \u001b[0;36mamin\u001b[0;34m(a, axis, out, keepdims, initial, where)\u001b[0m\n\u001b[1;32m   2829\u001b[0m \u001b[38;5;129m@array_function_dispatch\u001b[39m(_amin_dispatcher)\n\u001b[1;32m   2830\u001b[0m \u001b[38;5;28;01mdef\u001b[39;00m \u001b[38;5;21mamin\u001b[39m(a, axis\u001b[38;5;241m=\u001b[39m\u001b[38;5;28;01mNone\u001b[39;00m, out\u001b[38;5;241m=\u001b[39m\u001b[38;5;28;01mNone\u001b[39;00m, keepdims\u001b[38;5;241m=\u001b[39mnp\u001b[38;5;241m.\u001b[39m_NoValue, initial\u001b[38;5;241m=\u001b[39mnp\u001b[38;5;241m.\u001b[39m_NoValue,\n\u001b[1;32m   2831\u001b[0m          where\u001b[38;5;241m=\u001b[39mnp\u001b[38;5;241m.\u001b[39m_NoValue):\n\u001b[1;32m   2832\u001b[0m \u001b[38;5;250m    \u001b[39m\u001b[38;5;124;03m\"\"\"\u001b[39;00m\n\u001b[1;32m   2833\u001b[0m \u001b[38;5;124;03m    Return the minimum of an array or minimum along an axis.\u001b[39;00m\n\u001b[1;32m   2834\u001b[0m \n\u001b[0;32m   (...)\u001b[0m\n\u001b[1;32m   2944\u001b[0m \u001b[38;5;124;03m    6\u001b[39;00m\n\u001b[1;32m   2945\u001b[0m \u001b[38;5;124;03m    \"\"\"\u001b[39;00m\n\u001b[0;32m-> 2946\u001b[0m     \u001b[38;5;28;01mreturn\u001b[39;00m \u001b[43m_wrapreduction\u001b[49m\u001b[43m(\u001b[49m\u001b[43ma\u001b[49m\u001b[43m,\u001b[49m\u001b[43m \u001b[49m\u001b[43mnp\u001b[49m\u001b[38;5;241;43m.\u001b[39;49m\u001b[43mminimum\u001b[49m\u001b[43m,\u001b[49m\u001b[43m \u001b[49m\u001b[38;5;124;43m'\u001b[39;49m\u001b[38;5;124;43mmin\u001b[39;49m\u001b[38;5;124;43m'\u001b[39;49m\u001b[43m,\u001b[49m\u001b[43m \u001b[49m\u001b[43maxis\u001b[49m\u001b[43m,\u001b[49m\u001b[43m \u001b[49m\u001b[38;5;28;43;01mNone\u001b[39;49;00m\u001b[43m,\u001b[49m\u001b[43m \u001b[49m\u001b[43mout\u001b[49m\u001b[43m,\u001b[49m\n\u001b[1;32m   2947\u001b[0m \u001b[43m                          \u001b[49m\u001b[43mkeepdims\u001b[49m\u001b[38;5;241;43m=\u001b[39;49m\u001b[43mkeepdims\u001b[49m\u001b[43m,\u001b[49m\u001b[43m \u001b[49m\u001b[43minitial\u001b[49m\u001b[38;5;241;43m=\u001b[39;49m\u001b[43minitial\u001b[49m\u001b[43m,\u001b[49m\u001b[43m \u001b[49m\u001b[43mwhere\u001b[49m\u001b[38;5;241;43m=\u001b[39;49m\u001b[43mwhere\u001b[49m\u001b[43m)\u001b[49m\n",
      "File \u001b[0;32m/Library/Frameworks/Python.framework/Versions/3.8/lib/python3.8/site-packages/numpy/core/fromnumeric.py:86\u001b[0m, in \u001b[0;36m_wrapreduction\u001b[0;34m(obj, ufunc, method, axis, dtype, out, **kwargs)\u001b[0m\n\u001b[1;32m     83\u001b[0m         \u001b[38;5;28;01melse\u001b[39;00m:\n\u001b[1;32m     84\u001b[0m             \u001b[38;5;28;01mreturn\u001b[39;00m reduction(axis\u001b[38;5;241m=\u001b[39maxis, out\u001b[38;5;241m=\u001b[39mout, \u001b[38;5;241m*\u001b[39m\u001b[38;5;241m*\u001b[39mpasskwargs)\n\u001b[0;32m---> 86\u001b[0m \u001b[38;5;28;01mreturn\u001b[39;00m \u001b[43mufunc\u001b[49m\u001b[38;5;241;43m.\u001b[39;49m\u001b[43mreduce\u001b[49m\u001b[43m(\u001b[49m\u001b[43mobj\u001b[49m\u001b[43m,\u001b[49m\u001b[43m \u001b[49m\u001b[43maxis\u001b[49m\u001b[43m,\u001b[49m\u001b[43m \u001b[49m\u001b[43mdtype\u001b[49m\u001b[43m,\u001b[49m\u001b[43m \u001b[49m\u001b[43mout\u001b[49m\u001b[43m,\u001b[49m\u001b[43m \u001b[49m\u001b[38;5;241;43m*\u001b[39;49m\u001b[38;5;241;43m*\u001b[39;49m\u001b[43mpasskwargs\u001b[49m\u001b[43m)\u001b[49m\n",
      "\u001b[0;31mValueError\u001b[0m: zero-size array to reduction operation minimum which has no identity"
     ]
    }
   ],
   "source": [
    "print(\"Conditional Entropy:\\n\")\n",
    "print(np.average(avg))\n",
    "print(np.min(avg))\n",
    "print(np.max(avg))"
   ]
  },
  {
   "cell_type": "markdown",
   "metadata": {},
   "source": [
    "#### *Comparisons*"
   ]
  },
  {
   "cell_type": "markdown",
   "metadata": {},
   "source": [
    "**K-means vs Ground Truth**"
   ]
  },
  {
   "cell_type": "code",
   "execution_count": 18,
   "metadata": {
    "scrolled": true
   },
   "outputs": [
    {
     "ename": "NameError",
     "evalue": "name 'a' is not defined",
     "output_type": "error",
     "traceback": [
      "\u001b[0;31m---------------------------------------------------------------------------\u001b[0m",
      "\u001b[0;31mNameError\u001b[0m                                 Traceback (most recent call last)",
      "Cell \u001b[0;32mIn[18], line 2\u001b[0m\n\u001b[1;32m      1\u001b[0m \u001b[38;5;28;01mfor\u001b[39;00m i \u001b[38;5;129;01min\u001b[39;00m \u001b[38;5;28mrange\u001b[39m(\u001b[38;5;241m0\u001b[39m,\u001b[38;5;241m5\u001b[39m):\n\u001b[0;32m----> 2\u001b[0m     display_clustered_and_gt(\u001b[43ma\u001b[49m,ground_truth,\u001b[38;5;241m5\u001b[39m\u001b[38;5;241m+\u001b[39m\u001b[38;5;241m2\u001b[39m\u001b[38;5;241m*\u001b[39mi)\n",
      "\u001b[0;31mNameError\u001b[0m: name 'a' is not defined"
     ]
    }
   ],
   "source": [
    "for i in range(0,5):\n",
    "    display_clustered_and_gt(a,ground_truth,5+2*i)"
   ]
  },
  {
   "cell_type": "markdown",
   "metadata": {},
   "source": [
    "**Spectral Clustring vs Ground Truth**"
   ]
  },
  {
   "cell_type": "code",
   "execution_count": 19,
   "metadata": {
    "scrolled": true
   },
   "outputs": [
    {
     "ename": "NameError",
     "evalue": "name 'clustered_images' is not defined",
     "output_type": "error",
     "traceback": [
      "\u001b[0;31m---------------------------------------------------------------------------\u001b[0m",
      "\u001b[0;31mNameError\u001b[0m                                 Traceback (most recent call last)",
      "Cell \u001b[0;32mIn[19], line 2\u001b[0m\n\u001b[1;32m      1\u001b[0m \u001b[38;5;28;01mfor\u001b[39;00m i \u001b[38;5;129;01min\u001b[39;00m \u001b[38;5;28mrange\u001b[39m(\u001b[38;5;241m0\u001b[39m,\u001b[38;5;241m5\u001b[39m):\n\u001b[0;32m----> 2\u001b[0m     display_image_and_gt(\u001b[43mclustered_images\u001b[49m,ground_truth,i)\n",
      "\u001b[0;31mNameError\u001b[0m: name 'clustered_images' is not defined"
     ]
    }
   ],
   "source": [
    "for i in range(0,5):\n",
    "    display_image_and_gt(clustered_images,ground_truth,i)"
   ]
  },
  {
   "cell_type": "markdown",
   "metadata": {},
   "source": [
    "**K-means vs Spectral Clustering**"
   ]
  },
  {
   "cell_type": "code",
   "execution_count": 20,
   "metadata": {
    "scrolled": true
   },
   "outputs": [
    {
     "ename": "NameError",
     "evalue": "name 'clustered_images' is not defined",
     "output_type": "error",
     "traceback": [
      "\u001b[0;31m---------------------------------------------------------------------------\u001b[0m",
      "\u001b[0;31mNameError\u001b[0m                                 Traceback (most recent call last)",
      "Cell \u001b[0;32mIn[20], line 2\u001b[0m\n\u001b[1;32m      1\u001b[0m \u001b[38;5;28;01mfor\u001b[39;00m i \u001b[38;5;129;01min\u001b[39;00m \u001b[38;5;28mrange\u001b[39m(\u001b[38;5;241m0\u001b[39m,\u001b[38;5;241m5\u001b[39m):\n\u001b[0;32m----> 2\u001b[0m     display_image_and_image(\u001b[43mclustered_images\u001b[49m,a,i)\n",
      "\u001b[0;31mNameError\u001b[0m: name 'clustered_images' is not defined"
     ]
    }
   ],
   "source": [
    "for i in range(0,5):\n",
    "    display_image_and_image(clustered_images,a,i)"
   ]
  },
  {
   "cell_type": "markdown",
   "metadata": {},
   "source": [
    "### **Extra**"
   ]
  },
  {
   "cell_type": "markdown",
   "metadata": {},
   "source": [
    "**K-means with spatial features**"
   ]
  },
  {
   "cell_type": "code",
   "execution_count": 21,
   "metadata": {
    "scrolled": true
   },
   "outputs": [],
   "source": [
    "a2 = segment_images(test,root_added_f,added_f=1)"
   ]
  },
  {
   "cell_type": "markdown",
   "metadata": {},
   "source": [
    "**K-means with spatial features vs Ground Truth**"
   ]
  },
  {
   "cell_type": "code",
   "execution_count": 22,
   "metadata": {
    "scrolled": true
   },
   "outputs": [
    {
     "ename": "IndexError",
     "evalue": "index 27 is out of bounds for axis 0 with size 0",
     "output_type": "error",
     "traceback": [
      "\u001b[0;31m---------------------------------------------------------------------------\u001b[0m",
      "\u001b[0;31mIndexError\u001b[0m                                Traceback (most recent call last)",
      "Cell \u001b[0;32mIn[22], line 2\u001b[0m\n\u001b[1;32m      1\u001b[0m \u001b[38;5;28;01mfor\u001b[39;00m i \u001b[38;5;129;01min\u001b[39;00m \u001b[38;5;28mrange\u001b[39m(\u001b[38;5;241m0\u001b[39m,\u001b[38;5;241m5\u001b[39m):\n\u001b[0;32m----> 2\u001b[0m     \u001b[43mdisplay_clustered_and_gt\u001b[49m\u001b[43m(\u001b[49m\u001b[43ma2\u001b[49m\u001b[43m,\u001b[49m\u001b[43mground_truth\u001b[49m\u001b[43m,\u001b[49m\u001b[38;5;241;43m5\u001b[39;49m\u001b[38;5;241;43m+\u001b[39;49m\u001b[38;5;241;43m2\u001b[39;49m\u001b[38;5;241;43m*\u001b[39;49m\u001b[43mi\u001b[49m\u001b[43m)\u001b[49m\n",
      "Cell \u001b[0;32mIn[4], line 8\u001b[0m, in \u001b[0;36mdisplay_clustered_and_gt\u001b[0;34m(clustered, gt, idx)\u001b[0m\n\u001b[1;32m      6\u001b[0m \u001b[38;5;28;01mfor\u001b[39;00m j \u001b[38;5;129;01min\u001b[39;00m \u001b[38;5;28mrange\u001b[39m(\u001b[38;5;241m3\u001b[39m):\n\u001b[1;32m      7\u001b[0m     \u001b[38;5;28;01mif\u001b[39;00m (i,j) \u001b[38;5;241m==\u001b[39m (\u001b[38;5;241m0\u001b[39m,\u001b[38;5;241m0\u001b[39m):\n\u001b[0;32m----> 8\u001b[0m         axes[\u001b[38;5;241m0\u001b[39m,\u001b[38;5;241m0\u001b[39m]\u001b[38;5;241m.\u001b[39mimshow(\u001b[43mclustered\u001b[49m\u001b[43m[\u001b[49m\u001b[43midx\u001b[49m\u001b[38;5;241;43m*\u001b[39;49m\u001b[38;5;241;43m5\u001b[39;49m\u001b[38;5;241;43m+\u001b[39;49m\u001b[38;5;241;43m2\u001b[39;49m\u001b[43m]\u001b[49m,aspect\u001b[38;5;241m=\u001b[39m\u001b[38;5;124m'\u001b[39m\u001b[38;5;124mauto\u001b[39m\u001b[38;5;124m'\u001b[39m)\n\u001b[1;32m      9\u001b[0m         axes[\u001b[38;5;241m0\u001b[39m,\u001b[38;5;241m0\u001b[39m]\u001b[38;5;241m.\u001b[39maxis(\u001b[38;5;124m'\u001b[39m\u001b[38;5;124moff\u001b[39m\u001b[38;5;124m'\u001b[39m)\n\u001b[1;32m     10\u001b[0m         \u001b[38;5;28;01mcontinue\u001b[39;00m\n",
      "\u001b[0;31mIndexError\u001b[0m: index 27 is out of bounds for axis 0 with size 0"
     ]
    },
    {
     "data": {
      "image/png": "[encoded data removed]",
      "text/plain": [
       "<Figure size 2000x1000 with 6 Axes>"
      ]
     },
     "metadata": {},
     "output_type": "display_data"
    }
   ],
   "source": [
    "for i in range(0,5):\n",
    "    display_clustered_and_gt(a2,ground_truth,5+2*i)"
   ]
  },
  {
   "cell_type": "markdown",
   "metadata": {},
   "source": [
    "**Spectral Clustering with spatial features**"
   ]
  },
  {
   "cell_type": "code",
   "execution_count": null,
   "metadata": {
    "scrolled": true
   },
   "outputs": [],
   "source": [
    "clustered_images_f = evaluate_spectral(test, 0.30,n_images=5,add_spatial=True)"
   ]
  },
  {
   "cell_type": "code",
   "execution_count": null,
   "metadata": {
    "scrolled": true
   },
   "outputs": [],
   "source": [
    "for i in range(0,5):\n",
    "    display_image_and_gt(clustered_images_f,ground_truth,i)"
   ]
  },
  {
   "cell_type": "code",
   "execution_count": null,
   "metadata": {},
   "outputs": [],
   "source": []
  },
  {
   "cell_type": "code",
   "execution_count": null,
   "metadata": {},
   "outputs": [],
   "source": []
  },
  {
   "cell_type": "code",
   "execution_count": null,
   "metadata": {},
   "outputs": [],
   "source": []
  },
  {
   "cell_type": "code",
   "execution_count": null,
   "metadata": {},
   "outputs": [],
   "source": []
  }
 ],
 "metadata": {
  "kernelspec": {
   "display_name": "Python 3 (ipykernel)",
   "language": "python",
   "name": "python3"
  },
  "language_info": {
   "codemirror_mode": {
    "name": "ipython",
    "version": 3
   },
   "file_extension": ".py",
   "mimetype": "text/x-python",
   "name": "python",
   "nbconvert_exporter": "python",
   "pygments_lexer": "ipython3",
   "version": "3.9.7"
  }
 },
 "nbformat": 4,
 "nbformat_minor": 2
}
