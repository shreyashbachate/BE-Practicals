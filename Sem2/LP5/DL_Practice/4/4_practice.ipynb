{
 "cells": [
  {
   "cell_type": "code",
   "execution_count": 1,
   "id": "41f7440e",
   "metadata": {},
   "outputs": [],
   "source": [
    "import pandas as pd\n",
    "import numpy as np\n",
    "\n",
    "from sklearn.preprocessing import MinMaxScaler\n",
    "from keras.models import Sequential\n",
    "from keras.layers import Dense,LSTM\n",
    "from sklearn.metrics import mean_absolute_error,mean_squared_error\n",
    "\n",
    "import tensorflow as tf\n",
    "tf.config.run_functions_eagerly(True)"
   ]
  },
  {
   "cell_type": "code",
   "execution_count": 2,
   "id": "a51f4015",
   "metadata": {},
   "outputs": [
    {
     "data": {
      "text/html": [
       "<div>\n",
       "<style scoped>\n",
       "    .dataframe tbody tr th:only-of-type {\n",
       "        vertical-align: middle;\n",
       "    }\n",
       "\n",
       "    .dataframe tbody tr th {\n",
       "        vertical-align: top;\n",
       "    }\n",
       "\n",
       "    .dataframe thead th {\n",
       "        text-align: right;\n",
       "    }\n",
       "</style>\n",
       "<table border=\"1\" class=\"dataframe\">\n",
       "  <thead>\n",
       "    <tr style=\"text-align: right;\">\n",
       "      <th></th>\n",
       "      <th>Date</th>\n",
       "      <th>Open</th>\n",
       "      <th>High</th>\n",
       "      <th>Low</th>\n",
       "      <th>Close</th>\n",
       "      <th>Volume</th>\n",
       "    </tr>\n",
       "  </thead>\n",
       "  <tbody>\n",
       "    <tr>\n",
       "      <th>0</th>\n",
       "      <td>12/19/2016</td>\n",
       "      <td>790.219971</td>\n",
       "      <td>797.659973</td>\n",
       "      <td>786.270020</td>\n",
       "      <td>794.200012</td>\n",
       "      <td>1225900</td>\n",
       "    </tr>\n",
       "    <tr>\n",
       "      <th>1</th>\n",
       "      <td>12/20/2016</td>\n",
       "      <td>796.760010</td>\n",
       "      <td>798.650024</td>\n",
       "      <td>793.270020</td>\n",
       "      <td>796.419983</td>\n",
       "      <td>925100</td>\n",
       "    </tr>\n",
       "    <tr>\n",
       "      <th>2</th>\n",
       "      <td>12/21/2016</td>\n",
       "      <td>795.840027</td>\n",
       "      <td>796.676025</td>\n",
       "      <td>787.099976</td>\n",
       "      <td>794.559998</td>\n",
       "      <td>1208700</td>\n",
       "    </tr>\n",
       "    <tr>\n",
       "      <th>3</th>\n",
       "      <td>12/22/2016</td>\n",
       "      <td>792.359985</td>\n",
       "      <td>793.320007</td>\n",
       "      <td>788.580017</td>\n",
       "      <td>791.260010</td>\n",
       "      <td>969100</td>\n",
       "    </tr>\n",
       "    <tr>\n",
       "      <th>4</th>\n",
       "      <td>12/23/2016</td>\n",
       "      <td>790.900024</td>\n",
       "      <td>792.739990</td>\n",
       "      <td>787.280029</td>\n",
       "      <td>789.909973</td>\n",
       "      <td>623400</td>\n",
       "    </tr>\n",
       "  </tbody>\n",
       "</table>\n",
       "</div>"
      ],
      "text/plain": [
       "         Date        Open        High         Low       Close   Volume\n",
       "0  12/19/2016  790.219971  797.659973  786.270020  794.200012  1225900\n",
       "1  12/20/2016  796.760010  798.650024  793.270020  796.419983   925100\n",
       "2  12/21/2016  795.840027  796.676025  787.099976  794.559998  1208700\n",
       "3  12/22/2016  792.359985  793.320007  788.580017  791.260010   969100\n",
       "4  12/23/2016  790.900024  792.739990  787.280029  789.909973   623400"
      ]
     },
     "execution_count": 2,
     "metadata": {},
     "output_type": "execute_result"
    }
   ],
   "source": [
    "df = pd.read_csv('goog.csv')\n",
    "df.head()"
   ]
  },
  {
   "cell_type": "code",
   "execution_count": 3,
   "id": "dd3837ae",
   "metadata": {},
   "outputs": [
    {
     "data": {
      "text/html": [
       "<div>\n",
       "<style scoped>\n",
       "    .dataframe tbody tr th:only-of-type {\n",
       "        vertical-align: middle;\n",
       "    }\n",
       "\n",
       "    .dataframe tbody tr th {\n",
       "        vertical-align: top;\n",
       "    }\n",
       "\n",
       "    .dataframe thead th {\n",
       "        text-align: right;\n",
       "    }\n",
       "</style>\n",
       "<table border=\"1\" class=\"dataframe\">\n",
       "  <thead>\n",
       "    <tr style=\"text-align: right;\">\n",
       "      <th></th>\n",
       "      <th>Date</th>\n",
       "      <th>Open</th>\n",
       "      <th>High</th>\n",
       "      <th>Low</th>\n",
       "      <th>Close</th>\n",
       "      <th>Volume</th>\n",
       "    </tr>\n",
       "  </thead>\n",
       "  <tbody>\n",
       "    <tr>\n",
       "      <th>56</th>\n",
       "      <td>3/13/2017</td>\n",
       "      <td>844.000000</td>\n",
       "      <td>848.684998</td>\n",
       "      <td>843.250000</td>\n",
       "      <td>845.539978</td>\n",
       "      <td>1149500</td>\n",
       "    </tr>\n",
       "    <tr>\n",
       "      <th>57</th>\n",
       "      <td>3/14/2017</td>\n",
       "      <td>843.640015</td>\n",
       "      <td>847.239990</td>\n",
       "      <td>840.799988</td>\n",
       "      <td>845.619995</td>\n",
       "      <td>779900</td>\n",
       "    </tr>\n",
       "    <tr>\n",
       "      <th>58</th>\n",
       "      <td>3/15/2017</td>\n",
       "      <td>847.590027</td>\n",
       "      <td>848.630005</td>\n",
       "      <td>840.770020</td>\n",
       "      <td>847.200012</td>\n",
       "      <td>1379600</td>\n",
       "    </tr>\n",
       "    <tr>\n",
       "      <th>59</th>\n",
       "      <td>3/16/2017</td>\n",
       "      <td>849.030029</td>\n",
       "      <td>850.849976</td>\n",
       "      <td>846.130005</td>\n",
       "      <td>848.780029</td>\n",
       "      <td>970400</td>\n",
       "    </tr>\n",
       "    <tr>\n",
       "      <th>60</th>\n",
       "      <td>3/17/2017</td>\n",
       "      <td>851.609985</td>\n",
       "      <td>853.400024</td>\n",
       "      <td>847.109985</td>\n",
       "      <td>852.119995</td>\n",
       "      <td>1712300</td>\n",
       "    </tr>\n",
       "  </tbody>\n",
       "</table>\n",
       "</div>"
      ],
      "text/plain": [
       "         Date        Open        High         Low       Close   Volume\n",
       "56  3/13/2017  844.000000  848.684998  843.250000  845.539978  1149500\n",
       "57  3/14/2017  843.640015  847.239990  840.799988  845.619995   779900\n",
       "58  3/15/2017  847.590027  848.630005  840.770020  847.200012  1379600\n",
       "59  3/16/2017  849.030029  850.849976  846.130005  848.780029   970400\n",
       "60  3/17/2017  851.609985  853.400024  847.109985  852.119995  1712300"
      ]
     },
     "execution_count": 3,
     "metadata": {},
     "output_type": "execute_result"
    }
   ],
   "source": [
    "df.tail()"
   ]
  },
  {
   "cell_type": "code",
   "execution_count": 4,
   "id": "8d1d7a1e",
   "metadata": {},
   "outputs": [
    {
     "data": {
      "text/plain": [
       "Date      0\n",
       "Open      0\n",
       "High      0\n",
       "Low       0\n",
       "Close     0\n",
       "Volume    0\n",
       "dtype: int64"
      ]
     },
     "execution_count": 4,
     "metadata": {},
     "output_type": "execute_result"
    }
   ],
   "source": [
    "df.isna().sum()"
   ]
  },
  {
   "cell_type": "code",
   "execution_count": 5,
   "id": "03aee5e0",
   "metadata": {},
   "outputs": [
    {
     "data": {
      "text/html": [
       "<div>\n",
       "<style scoped>\n",
       "    .dataframe tbody tr th:only-of-type {\n",
       "        vertical-align: middle;\n",
       "    }\n",
       "\n",
       "    .dataframe tbody tr th {\n",
       "        vertical-align: top;\n",
       "    }\n",
       "\n",
       "    .dataframe thead th {\n",
       "        text-align: right;\n",
       "    }\n",
       "</style>\n",
       "<table border=\"1\" class=\"dataframe\">\n",
       "  <thead>\n",
       "    <tr style=\"text-align: right;\">\n",
       "      <th></th>\n",
       "      <th>Open</th>\n",
       "      <th>High</th>\n",
       "      <th>Low</th>\n",
       "      <th>Close</th>\n",
       "      <th>Volume</th>\n",
       "    </tr>\n",
       "  </thead>\n",
       "  <tbody>\n",
       "    <tr>\n",
       "      <th>count</th>\n",
       "      <td>61.000000</td>\n",
       "      <td>61.000000</td>\n",
       "      <td>61.000000</td>\n",
       "      <td>61.000000</td>\n",
       "      <td>6.100000e+01</td>\n",
       "    </tr>\n",
       "    <tr>\n",
       "      <th>mean</th>\n",
       "      <td>814.005573</td>\n",
       "      <td>817.755576</td>\n",
       "      <td>809.734066</td>\n",
       "      <td>814.561804</td>\n",
       "      <td>1.361269e+06</td>\n",
       "    </tr>\n",
       "    <tr>\n",
       "      <th>std</th>\n",
       "      <td>18.784303</td>\n",
       "      <td>18.556004</td>\n",
       "      <td>19.384799</td>\n",
       "      <td>19.265955</td>\n",
       "      <td>4.987376e+05</td>\n",
       "    </tr>\n",
       "    <tr>\n",
       "      <th>min</th>\n",
       "      <td>778.809998</td>\n",
       "      <td>782.780029</td>\n",
       "      <td>770.409973</td>\n",
       "      <td>771.820007</td>\n",
       "      <td>6.234000e+05</td>\n",
       "    </tr>\n",
       "    <tr>\n",
       "      <th>25%</th>\n",
       "      <td>799.679993</td>\n",
       "      <td>802.700012</td>\n",
       "      <td>793.270020</td>\n",
       "      <td>801.340027</td>\n",
       "      <td>1.057900e+06</td>\n",
       "    </tr>\n",
       "    <tr>\n",
       "      <th>50%</th>\n",
       "      <td>809.510010</td>\n",
       "      <td>815.250000</td>\n",
       "      <td>804.539978</td>\n",
       "      <td>809.559998</td>\n",
       "      <td>1.247700e+06</td>\n",
       "    </tr>\n",
       "    <tr>\n",
       "      <th>75%</th>\n",
       "      <td>828.659973</td>\n",
       "      <td>833.250000</td>\n",
       "      <td>825.059998</td>\n",
       "      <td>830.630005</td>\n",
       "      <td>1.494500e+06</td>\n",
       "    </tr>\n",
       "    <tr>\n",
       "      <th>max</th>\n",
       "      <td>851.609985</td>\n",
       "      <td>853.400024</td>\n",
       "      <td>847.109985</td>\n",
       "      <td>852.119995</td>\n",
       "      <td>3.228900e+06</td>\n",
       "    </tr>\n",
       "  </tbody>\n",
       "</table>\n",
       "</div>"
      ],
      "text/plain": [
       "             Open        High         Low       Close        Volume\n",
       "count   61.000000   61.000000   61.000000   61.000000  6.100000e+01\n",
       "mean   814.005573  817.755576  809.734066  814.561804  1.361269e+06\n",
       "std     18.784303   18.556004   19.384799   19.265955  4.987376e+05\n",
       "min    778.809998  782.780029  770.409973  771.820007  6.234000e+05\n",
       "25%    799.679993  802.700012  793.270020  801.340027  1.057900e+06\n",
       "50%    809.510010  815.250000  804.539978  809.559998  1.247700e+06\n",
       "75%    828.659973  833.250000  825.059998  830.630005  1.494500e+06\n",
       "max    851.609985  853.400024  847.109985  852.119995  3.228900e+06"
      ]
     },
     "execution_count": 5,
     "metadata": {},
     "output_type": "execute_result"
    }
   ],
   "source": [
    "df.describe()"
   ]
  },
  {
   "cell_type": "code",
   "execution_count": 6,
   "id": "b64d7245",
   "metadata": {},
   "outputs": [
    {
     "data": {
      "text/plain": [
       "Date       object\n",
       "Open      float64\n",
       "High      float64\n",
       "Low       float64\n",
       "Close     float64\n",
       "Volume      int64\n",
       "dtype: object"
      ]
     },
     "execution_count": 6,
     "metadata": {},
     "output_type": "execute_result"
    }
   ],
   "source": [
    "df.dtypes"
   ]
  },
  {
   "cell_type": "code",
   "execution_count": 7,
   "id": "064461b9",
   "metadata": {},
   "outputs": [],
   "source": [
    "scaler = MinMaxScaler(feature_range=(0,1))\n",
    "scaled_data = scaler.fit_transform(df['Close'].values.reshape(-1,1))"
   ]
  },
  {
   "cell_type": "code",
   "execution_count": 8,
   "id": "48780398",
   "metadata": {},
   "outputs": [],
   "source": [
    "train_data = scaled_data[:int(len(scaled_data)*0.8)]\n",
    "test_data = scaled_data[int(len(scaled_data)*0.8):]"
   ]
  },
  {
   "cell_type": "code",
   "execution_count": 9,
   "id": "2840533f",
   "metadata": {},
   "outputs": [],
   "source": [
    "def create_sequence(data,time_steps = 6):\n",
    "    X = []\n",
    "    Y = []\n",
    "    \n",
    "    for i in range(len(data) - time_steps):\n",
    "        X.append(data[i:i+time_steps,0])\n",
    "        Y.append(data[i+time_steps,0])\n",
    "    return np.array(X),np.array(Y)\n"
   ]
  },
  {
   "cell_type": "code",
   "execution_count": 10,
   "id": "3c8e53a3",
   "metadata": {},
   "outputs": [],
   "source": [
    "X_train,Y_train = create_sequence(train_data)\n",
    "X_test,Y_test = create_sequence(test_data)"
   ]
  },
  {
   "cell_type": "code",
   "execution_count": 11,
   "id": "1e0fb12f",
   "metadata": {},
   "outputs": [
    {
     "name": "stdout",
     "output_type": "stream",
     "text": [
      "Model: \"sequential\"\n",
      "_________________________________________________________________\n",
      " Layer (type)                Output Shape              Param #   \n",
      "=================================================================\n",
      " lstm (LSTM)                 (None, 6, 50)             10400     \n",
      "                                                                 \n",
      " lstm_1 (LSTM)               (None, 50)                20200     \n",
      "                                                                 \n",
      " dense (Dense)               (None, 1)                 51        \n",
      "                                                                 \n",
      "=================================================================\n",
      "Total params: 30651 (119.73 KB)\n",
      "Trainable params: 30651 (119.73 KB)\n",
      "Non-trainable params: 0 (0.00 Byte)\n",
      "_________________________________________________________________\n"
     ]
    }
   ],
   "source": [
    "model = Sequential()\n",
    "\n",
    "model.add(LSTM(units = 50, return_sequences=True, input_shape=(X_train.shape[1],1)))\n",
    "model.add(LSTM(units = 50))\n",
    "model.add(Dense(units = 1))\n",
    "\n",
    "model.compile(optimizer = 'adam',loss = 'mean_squared_error')\n",
    "\n",
    "model.summary()"
   ]
  },
  {
   "cell_type": "code",
   "execution_count": 12,
   "id": "5a1ddecb",
   "metadata": {},
   "outputs": [
    {
     "name": "stdout",
     "output_type": "stream",
     "text": [
      "Epoch 1/100\n",
      " 1/11 [=>............................] - ETA: 1s - loss: 0.4322"
     ]
    },
    {
     "name": "stderr",
     "output_type": "stream",
     "text": [
      "C:\\Users\\shrey\\AppData\\Local\\Programs\\Python\\Python39\\lib\\site-packages\\tensorflow\\python\\data\\ops\\structured_function.py:258: UserWarning: Even though the `tf.config.experimental_run_functions_eagerly` option is set, this option does not apply to tf.data functions. To force eager execution of tf.data functions, please use `tf.data.experimental.enable_debug_mode()`.\n",
      "  warnings.warn(\n"
     ]
    },
    {
     "name": "stdout",
     "output_type": "stream",
     "text": [
      "11/11 [==============================] - 1s 40ms/step - loss: 0.1613\n",
      "Epoch 2/100\n",
      "11/11 [==============================] - 0s 35ms/step - loss: 0.0325\n",
      "Epoch 3/100\n",
      "11/11 [==============================] - 0s 36ms/step - loss: 0.0241\n",
      "Epoch 4/100\n",
      "11/11 [==============================] - 0s 39ms/step - loss: 0.0251\n",
      "Epoch 5/100\n",
      "11/11 [==============================] - 0s 36ms/step - loss: 0.0235\n",
      "Epoch 6/100\n",
      "11/11 [==============================] - 0s 36ms/step - loss: 0.0236\n",
      "Epoch 7/100\n",
      "11/11 [==============================] - 0s 36ms/step - loss: 0.0228\n",
      "Epoch 8/100\n",
      "11/11 [==============================] - 0s 35ms/step - loss: 0.0228\n",
      "Epoch 9/100\n",
      "11/11 [==============================] - 0s 36ms/step - loss: 0.0227\n",
      "Epoch 10/100\n",
      "11/11 [==============================] - 0s 36ms/step - loss: 0.0247\n",
      "Epoch 11/100\n",
      "11/11 [==============================] - 0s 37ms/step - loss: 0.0232\n",
      "Epoch 12/100\n",
      "11/11 [==============================] - 0s 36ms/step - loss: 0.0228\n",
      "Epoch 13/100\n",
      "11/11 [==============================] - 0s 36ms/step - loss: 0.0235\n",
      "Epoch 14/100\n",
      "11/11 [==============================] - 0s 35ms/step - loss: 0.0218\n",
      "Epoch 15/100\n",
      "11/11 [==============================] - 0s 35ms/step - loss: 0.0209\n",
      "Epoch 16/100\n",
      "11/11 [==============================] - 0s 36ms/step - loss: 0.0206\n",
      "Epoch 17/100\n",
      "11/11 [==============================] - 0s 35ms/step - loss: 0.0206\n",
      "Epoch 18/100\n",
      "11/11 [==============================] - 0s 36ms/step - loss: 0.0204\n",
      "Epoch 19/100\n",
      "11/11 [==============================] - 0s 35ms/step - loss: 0.0201\n",
      "Epoch 20/100\n",
      "11/11 [==============================] - 0s 35ms/step - loss: 0.0195\n",
      "Epoch 21/100\n",
      "11/11 [==============================] - 0s 36ms/step - loss: 0.0200\n",
      "Epoch 22/100\n",
      "11/11 [==============================] - 0s 36ms/step - loss: 0.0213\n",
      "Epoch 23/100\n",
      "11/11 [==============================] - 0s 36ms/step - loss: 0.0191\n",
      "Epoch 24/100\n",
      "11/11 [==============================] - 0s 35ms/step - loss: 0.0197\n",
      "Epoch 25/100\n",
      "11/11 [==============================] - 0s 36ms/step - loss: 0.0177\n",
      "Epoch 26/100\n",
      "11/11 [==============================] - 0s 36ms/step - loss: 0.0173\n",
      "Epoch 27/100\n",
      "11/11 [==============================] - 0s 35ms/step - loss: 0.0170\n",
      "Epoch 28/100\n",
      "11/11 [==============================] - 0s 36ms/step - loss: 0.0155\n",
      "Epoch 29/100\n",
      "11/11 [==============================] - 0s 35ms/step - loss: 0.0166\n",
      "Epoch 30/100\n",
      "11/11 [==============================] - 0s 36ms/step - loss: 0.0159\n",
      "Epoch 31/100\n",
      "11/11 [==============================] - 0s 38ms/step - loss: 0.0162\n",
      "Epoch 32/100\n",
      "11/11 [==============================] - 0s 35ms/step - loss: 0.0160\n",
      "Epoch 33/100\n",
      "11/11 [==============================] - 0s 36ms/step - loss: 0.0151\n",
      "Epoch 34/100\n",
      "11/11 [==============================] - 0s 35ms/step - loss: 0.0138\n",
      "Epoch 35/100\n",
      "11/11 [==============================] - 0s 35ms/step - loss: 0.0173\n",
      "Epoch 36/100\n",
      "11/11 [==============================] - 0s 36ms/step - loss: 0.0160\n",
      "Epoch 37/100\n",
      "11/11 [==============================] - 0s 36ms/step - loss: 0.0179\n",
      "Epoch 38/100\n",
      "11/11 [==============================] - 0s 38ms/step - loss: 0.0123\n",
      "Epoch 39/100\n",
      "11/11 [==============================] - 0s 36ms/step - loss: 0.0121\n",
      "Epoch 40/100\n",
      "11/11 [==============================] - 0s 37ms/step - loss: 0.0119\n",
      "Epoch 41/100\n",
      "11/11 [==============================] - 0s 37ms/step - loss: 0.0112\n",
      "Epoch 42/100\n",
      "11/11 [==============================] - 0s 37ms/step - loss: 0.0130\n",
      "Epoch 43/100\n",
      "11/11 [==============================] - 0s 36ms/step - loss: 0.0119\n",
      "Epoch 44/100\n",
      "11/11 [==============================] - 0s 36ms/step - loss: 0.0135\n",
      "Epoch 45/100\n",
      "11/11 [==============================] - 0s 38ms/step - loss: 0.0117\n",
      "Epoch 46/100\n",
      "11/11 [==============================] - 0s 38ms/step - loss: 0.0103\n",
      "Epoch 47/100\n",
      "11/11 [==============================] - 0s 37ms/step - loss: 0.0121\n",
      "Epoch 48/100\n",
      "11/11 [==============================] - 0s 37ms/step - loss: 0.0111\n",
      "Epoch 49/100\n",
      "11/11 [==============================] - 0s 37ms/step - loss: 0.0090\n",
      "Epoch 50/100\n",
      "11/11 [==============================] - 0s 37ms/step - loss: 0.0099\n",
      "Epoch 51/100\n",
      "11/11 [==============================] - 0s 37ms/step - loss: 0.0110\n",
      "Epoch 52/100\n",
      "11/11 [==============================] - 0s 35ms/step - loss: 0.0098\n",
      "Epoch 53/100\n",
      "11/11 [==============================] - 0s 36ms/step - loss: 0.0099\n",
      "Epoch 54/100\n",
      "11/11 [==============================] - 0s 37ms/step - loss: 0.0088\n",
      "Epoch 55/100\n",
      "11/11 [==============================] - 0s 36ms/step - loss: 0.0086\n",
      "Epoch 56/100\n",
      "11/11 [==============================] - 0s 38ms/step - loss: 0.0086\n",
      "Epoch 57/100\n",
      "11/11 [==============================] - 0s 37ms/step - loss: 0.0091\n",
      "Epoch 58/100\n",
      "11/11 [==============================] - 0s 37ms/step - loss: 0.0079\n",
      "Epoch 59/100\n",
      "11/11 [==============================] - 0s 35ms/step - loss: 0.0094\n",
      "Epoch 60/100\n",
      "11/11 [==============================] - 0s 38ms/step - loss: 0.0088\n",
      "Epoch 61/100\n",
      "11/11 [==============================] - 0s 36ms/step - loss: 0.0084\n",
      "Epoch 62/100\n",
      "11/11 [==============================] - 0s 36ms/step - loss: 0.0071\n",
      "Epoch 63/100\n",
      "11/11 [==============================] - 0s 36ms/step - loss: 0.0071\n",
      "Epoch 64/100\n",
      "11/11 [==============================] - 0s 36ms/step - loss: 0.0066\n",
      "Epoch 65/100\n",
      "11/11 [==============================] - 0s 38ms/step - loss: 0.0072\n",
      "Epoch 66/100\n",
      "11/11 [==============================] - 0s 37ms/step - loss: 0.0074\n",
      "Epoch 67/100\n",
      "11/11 [==============================] - 0s 37ms/step - loss: 0.0068\n",
      "Epoch 68/100\n",
      "11/11 [==============================] - 0s 37ms/step - loss: 0.0068\n",
      "Epoch 69/100\n",
      "11/11 [==============================] - 0s 37ms/step - loss: 0.0064\n",
      "Epoch 70/100\n",
      "11/11 [==============================] - 0s 38ms/step - loss: 0.0062\n",
      "Epoch 71/100\n",
      "11/11 [==============================] - 0s 37ms/step - loss: 0.0057\n",
      "Epoch 72/100\n",
      "11/11 [==============================] - 0s 37ms/step - loss: 0.0055\n",
      "Epoch 73/100\n",
      "11/11 [==============================] - 0s 38ms/step - loss: 0.0054\n",
      "Epoch 74/100\n",
      "11/11 [==============================] - 0s 37ms/step - loss: 0.0056\n",
      "Epoch 75/100\n",
      "11/11 [==============================] - 0s 37ms/step - loss: 0.0057\n",
      "Epoch 76/100\n",
      "11/11 [==============================] - 0s 37ms/step - loss: 0.0058\n",
      "Epoch 77/100\n",
      "11/11 [==============================] - 0s 37ms/step - loss: 0.0052\n",
      "Epoch 78/100\n",
      "11/11 [==============================] - 0s 36ms/step - loss: 0.0054\n",
      "Epoch 79/100\n",
      "11/11 [==============================] - 0s 36ms/step - loss: 0.0060\n",
      "Epoch 80/100\n",
      "11/11 [==============================] - 0s 37ms/step - loss: 0.0053\n",
      "Epoch 81/100\n",
      "11/11 [==============================] - 0s 36ms/step - loss: 0.0050\n",
      "Epoch 82/100\n",
      "11/11 [==============================] - 0s 36ms/step - loss: 0.0057\n",
      "Epoch 83/100\n",
      "11/11 [==============================] - 0s 37ms/step - loss: 0.0048\n",
      "Epoch 84/100\n",
      "11/11 [==============================] - 0s 37ms/step - loss: 0.0058\n",
      "Epoch 85/100\n",
      "11/11 [==============================] - 0s 37ms/step - loss: 0.0049\n",
      "Epoch 86/100\n",
      "11/11 [==============================] - 0s 38ms/step - loss: 0.0051\n",
      "Epoch 87/100\n",
      "11/11 [==============================] - 0s 37ms/step - loss: 0.0059\n",
      "Epoch 88/100\n",
      "11/11 [==============================] - 0s 37ms/step - loss: 0.0050\n",
      "Epoch 89/100\n",
      "11/11 [==============================] - 0s 37ms/step - loss: 0.0050\n",
      "Epoch 90/100\n",
      "11/11 [==============================] - 0s 37ms/step - loss: 0.0047\n",
      "Epoch 91/100\n",
      "11/11 [==============================] - 0s 38ms/step - loss: 0.0051\n",
      "Epoch 92/100\n",
      "11/11 [==============================] - 0s 38ms/step - loss: 0.0047\n",
      "Epoch 93/100\n",
      "11/11 [==============================] - 0s 37ms/step - loss: 0.0046\n",
      "Epoch 94/100\n",
      "11/11 [==============================] - 0s 38ms/step - loss: 0.0046\n",
      "Epoch 95/100\n",
      "11/11 [==============================] - 0s 37ms/step - loss: 0.0047\n",
      "Epoch 96/100\n",
      "11/11 [==============================] - 0s 38ms/step - loss: 0.0052\n",
      "Epoch 97/100\n",
      "11/11 [==============================] - 0s 37ms/step - loss: 0.0051\n",
      "Epoch 98/100\n",
      "11/11 [==============================] - 0s 37ms/step - loss: 0.0056\n",
      "Epoch 99/100\n",
      "11/11 [==============================] - 0s 37ms/step - loss: 0.0045\n",
      "Epoch 100/100\n",
      "11/11 [==============================] - 0s 37ms/step - loss: 0.0053\n"
     ]
    },
    {
     "data": {
      "text/plain": [
       "<keras.src.callbacks.History at 0x1d0a403be80>"
      ]
     },
     "execution_count": 12,
     "metadata": {},
     "output_type": "execute_result"
    }
   ],
   "source": [
    "model.fit(X_train,Y_train,epochs = 100, batch_size = 4)"
   ]
  },
  {
   "cell_type": "code",
   "execution_count": 13,
   "id": "9f0e7086",
   "metadata": {},
   "outputs": [
    {
     "name": "stdout",
     "output_type": "stream",
     "text": [
      "1/1 [==============================] - 0s 28ms/step\n"
     ]
    }
   ],
   "source": [
    "y_pred = model.predict(X_test)\n",
    "y_pred = scaler.inverse_transform(y_pred)\n",
    "\n",
    "Y_test = scaler.inverse_transform(Y_test.reshape(-1,1))"
   ]
  },
  {
   "cell_type": "code",
   "execution_count": 14,
   "id": "b74de9e5",
   "metadata": {},
   "outputs": [
    {
     "name": "stdout",
     "output_type": "stream",
     "text": [
      "MSE  43.71590836357267\n",
      "MAE  6.421020444754455\n",
      "RMSE  6.611800689946172\n"
     ]
    }
   ],
   "source": [
    "mse = mean_squared_error(Y_test,y_pred)\n",
    "mae = mean_absolute_error(Y_test,y_pred)\n",
    "rmse = np.sqrt(mse)\n",
    "\n",
    "print('MSE ',mse)\n",
    "print('MAE ',mae)\n",
    "print('RMSE ',rmse)"
   ]
  },
  {
   "cell_type": "code",
   "execution_count": 17,
   "id": "c4fef02f",
   "metadata": {},
   "outputs": [],
   "source": [
    "last_6_days = df['Close'][-6:].values\n",
    "last_6_days_scaled = scaler.transform(last_6_days.reshape(-1,1))\n",
    "\n",
    "X_pred = []\n",
    "X_pred.append(last_6_days_scaled)\n",
    "X_pred = np.array(X_pred)\n",
    "X_pred = np.reshape(X_pred,(X_pred.shape[0],X_pred.shape[1],1))"
   ]
  },
  {
   "cell_type": "code",
   "execution_count": 18,
   "id": "12a30541",
   "metadata": {},
   "outputs": [
    {
     "name": "stdout",
     "output_type": "stream",
     "text": [
      "1/1 [==============================] - 0s 27ms/step\n",
      "Prediction for next day is  [[850.0285]]\n"
     ]
    },
    {
     "name": "stderr",
     "output_type": "stream",
     "text": [
      "C:\\Users\\shrey\\AppData\\Local\\Programs\\Python\\Python39\\lib\\site-packages\\tensorflow\\python\\data\\ops\\structured_function.py:258: UserWarning: Even though the `tf.config.experimental_run_functions_eagerly` option is set, this option does not apply to tf.data functions. To force eager execution of tf.data functions, please use `tf.data.experimental.enable_debug_mode()`.\n",
      "  warnings.warn(\n"
     ]
    }
   ],
   "source": [
    "prediction = model.predict(X_pred)\n",
    "prediction = scaler.inverse_transform(prediction)\n",
    "\n",
    "print('Prediction for next day is ',prediction)"
   ]
  },
  {
   "cell_type": "code",
   "execution_count": 20,
   "id": "f0a4ad62",
   "metadata": {},
   "outputs": [
    {
     "data": {
      "image/png": "[encoded data removed]",
      "text/plain": [
       "<Figure size 640x480 with 1 Axes>"
      ]
     },
     "metadata": {},
     "output_type": "display_data"
    }
   ],
   "source": [
    "import matplotlib.pyplot as plt\n",
    "\n",
    "plt.plot(Y_test, label = 'Actual Values')\n",
    "plt.plot(y_pred, label = 'Predicted Values')\n",
    "plt.xlabel('Time')\n",
    "plt.ylabel('Price')\n",
    "plt.grid(True)\n",
    "plt.legend()\n",
    "plt.show()"
   ]
  },
  {
   "cell_type": "code",
   "execution_count": null,
   "id": "6cf5ea27",
   "metadata": {},
   "outputs": [],
   "source": []
  }
 ],
 "metadata": {
  "kernelspec": {
   "display_name": "Python 3 (ipykernel)",
   "language": "python",
   "name": "python3"
  },
  "language_info": {
   "codemirror_mode": {
    "name": "ipython",
    "version": 3
   },
   "file_extension": ".py",
   "mimetype": "text/x-python",
   "name": "python",
   "nbconvert_exporter": "python",
   "pygments_lexer": "ipython3",
   "version": "3.9.7"
  }
 },
 "nbformat": 4,
 "nbformat_minor": 5
}
